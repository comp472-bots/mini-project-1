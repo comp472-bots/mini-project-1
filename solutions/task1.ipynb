{
 "cells": [
  {
   "cell_type": "markdown",
   "id": "82ba7303",
   "metadata": {},
   "source": [
    "# Task 1: Text Classification"
   ]
  },
  {
   "cell_type": "markdown",
   "id": "f94a96ad",
   "metadata": {},
   "source": [
    "1. Download the BBC dataset provided on Moodle. The dataset, created by Greene and Cunningham, 2006 is a collection of 2225 documents from the BBC news website already categorized into 5 classes: business, entertainment, politics, sport, and tech."
   ]
  },
  {
   "cell_type": "code",
   "execution_count": 13,
   "id": "6666e8bf",
   "metadata": {},
   "outputs": [
    {
     "name": "stdout",
     "output_type": "stream",
     "text": [
      "The number of instances in each class {'business': 510, 'entertainment': 386, 'politics': 417, 'sport': 511, 'tech': 401}\n"
     ]
    }
   ],
   "source": [
    "# The dataset can be found in the /data/BBC folder\n",
    "print(os.listdir(\"../data/BBC\"))"
   ]
  },
  {
   "cell_type": "code",
   "execution_count": 15,
   "id": "cfbcf868",
   "metadata": {},
   "outputs": [
    {
     "name": "stdout",
     "output_type": "stream",
     "text": [
      "The number of instances in each class {'business': 510, 'entertainment': 386, 'politics': 417, 'sport': 511, 'tech': 401}\n"
     ]
    }
   ],
   "source": [
    "import os\n",
    "\n",
    "# Dictionary to hold the number of instances of each class\n",
    "# business/entertainment/politics/sport/tech\n",
    "count_dict = dict()\n",
    "\n",
    "count_dict[\"business\"] = len(os.listdir(\"../data/BBC/business\"))\n",
    "count_dict[\"entertainment\"] = len(os.listdir(\"../data/BBC/entertainment\"))\n",
    "count_dict[\"politics\"] = len(os.listdir(\"../data/BBC/politics\"))\n",
    "count_dict[\"sport\"] = len(os.listdir(\"../data/BBC/sport\"))\n",
    "count_dict[\"tech\"] = len(os.listdir(\"../data/BBC/tech\"))\n",
    "\n",
    "print(\"The number of instances in each class\", count_dict)"
   ]
  },
  {
   "cell_type": "code",
   "execution_count": null,
   "id": "fd84775f",
   "metadata": {},
   "outputs": [],
   "source": []
  },
  {
   "cell_type": "code",
   "execution_count": null,
   "id": "22c43a65",
   "metadata": {},
   "outputs": [],
   "source": []
  },
  {
   "cell_type": "code",
   "execution_count": null,
   "id": "8494e4cf",
   "metadata": {},
   "outputs": [],
   "source": []
  },
  {
   "cell_type": "code",
   "execution_count": null,
   "id": "e2596ee1",
   "metadata": {},
   "outputs": [],
   "source": []
  }
 ],
 "metadata": {
  "kernelspec": {
   "display_name": "Python 3",
   "language": "python",
   "name": "python3"
  },
  "language_info": {
   "codemirror_mode": {
    "name": "ipython",
    "version": 3
   },
   "file_extension": ".py",
   "mimetype": "text/x-python",
   "name": "python",
   "nbconvert_exporter": "python",
   "pygments_lexer": "ipython3",
   "version": "3.8.8"
  }
 },
 "nbformat": 4,
 "nbformat_minor": 5
}
