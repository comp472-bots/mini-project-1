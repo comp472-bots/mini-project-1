{
 "cells": [
  {
   "cell_type": "markdown",
   "id": "f6a01151",
   "metadata": {},
   "source": [
    "# Task 1: Text Classification"
   ]
  },
  {
   "cell_type": "markdown",
   "id": "33334d69",
   "metadata": {},
   "source": [
    "#### 1. Download the BBC dataset provided on Moodle. The dataset, created by Greene and Cunningham, 2006 is a collection of 2225 documents from the BBC news website already categorized into 5 classes: business, entertainment, politics, sport, and tech."
   ]
  },
  {
   "cell_type": "code",
   "execution_count": 1,
   "id": "88a2d837",
   "metadata": {},
   "outputs": [
    {
     "name": "stdout",
     "output_type": "stream",
     "text": [
      "['business', 'entertainment', 'politics', 'README.TXT', 'sport', 'tech']\n"
     ]
    }
   ],
   "source": [
    "import os\n",
    "\n",
    "# The dataset can be found in the /data/BBC folder\n",
    "print(os.listdir(\"../data/BBC\"))"
   ]
  },
  {
   "cell_type": "code",
   "execution_count": 2,
   "id": "42442b35",
   "metadata": {},
   "outputs": [
    {
     "name": "stdout",
     "output_type": "stream",
     "text": [
      "The number of instances in each class {'business': 510, 'entertainment': 386, 'politics': 417, 'sport': 511, 'tech': 401}\n"
     ]
    }
   ],
   "source": [
    "# Dictionary to hold the number of instances of each class\n",
    "# business/entertainment/politics/sport/tech\n",
    "category_dict = dict()\n",
    "\n",
    "category_dict[\"business\"] = len(os.listdir(\"../data/BBC/business\"))\n",
    "category_dict[\"entertainment\"] = len(os.listdir(\"../data/BBC/entertainment\"))\n",
    "category_dict[\"politics\"] = len(os.listdir(\"../data/BBC/politics\"))\n",
    "category_dict[\"sport\"] = len(os.listdir(\"../data/BBC/sport\"))\n",
    "category_dict[\"tech\"] = len(os.listdir(\"../data/BBC/tech\"))\n",
    "\n",
    "print(\"The number of instances in each class\", category_dict)"
   ]
  },
  {
   "cell_type": "code",
   "execution_count": 3,
   "id": "30f8ae63",
   "metadata": {},
   "outputs": [
    {
     "name": "stdout",
     "output_type": "stream",
     "text": [
      "Total Number of Texts: 2225\n"
     ]
    }
   ],
   "source": [
    "num_texts = 0\n",
    "\n",
    "for value in category_dict.values():\n",
    "    num_texts += value\n",
    "print('Total Number of Texts: {num_texts}'.format(num_texts=num_texts))"
   ]
  },
  {
   "cell_type": "markdown",
   "id": "6f484909",
   "metadata": {},
   "source": [
    "#### 2. Plot the distribution of the instances in each class and save the graphic in a file called BBC-distribution.pdf. You may want to use matplotlib.pyplot and savefig to do this. This pre-analysis of the data set will allow you to determine if the classes are balanced, and which metric is more appropriate to use to evaluate the performance of your classifier."
   ]
  },
  {
   "cell_type": "code",
   "execution_count": 4,
   "id": "47293d43",
   "metadata": {
    "scrolled": true
   },
   "outputs": [
    {
     "data": {
      "image/png": "[encoded data removed]",
      "text/plain": [
       "<Figure size 720x360 with 1 Axes>"
      ]
     },
     "metadata": {
      "needs_background": "light"
     },
     "output_type": "display_data"
    }
   ],
   "source": [
    "import numpy as np\n",
    "import matplotlib.pyplot as plt\n",
    " \n",
    "categories = list(category_dict.keys())\n",
    "instances = list(category_dict.values())\n",
    "  \n",
    "fig = plt.figure(figsize = (10, 5))\n",
    " \n",
    "# Creating the bar plot\n",
    "plt.bar(categories, instances, color ='powderblue', width = 0.6)\n",
    " \n",
    "plt.xlabel(\"Text Categories\")\n",
    "plt.ylabel(\"No. of Instances\")\n",
    "plt.title(\"Distribution of Instances in Each Class\")\n",
    "plt.savefig(\"../output/BBC-distribution.pdf\")\n",
    "plt.show()"
   ]
  },
  {
   "cell_type": "markdown",
   "id": "18330d3d",
   "metadata": {},
   "source": [
    "#### 3. Load the corpus using load files and make sure you set the encoding to latin1. This will read the file structure and assign the category name to each file from their parent directory name."
   ]
  },
  {
   "cell_type": "code",
   "execution_count": 5,
   "id": "34b11d4d",
   "metadata": {},
   "outputs": [],
   "source": [
    "from sklearn.datasets import load_files\n",
    "\n",
    "# Reads the file structure and assign the category name to each file from their parent directory name\n",
    "# https://scikit-learn.org/stable/modules/generated/sklearn.datasets.load_files.html\n",
    "res = load_files(\"../data/BBC\", encoding=\"latin-1\")"
   ]
  },
  {
   "cell_type": "code",
   "execution_count": 6,
   "id": "cd45fc7e",
   "metadata": {},
   "outputs": [
    {
     "name": "stdout",
     "output_type": "stream",
     "text": [
      "The names of target classes:  ['business', 'entertainment', 'politics', 'sport', 'tech']\n",
      "\n",
      "Some examples below: \n",
      "Tate & Lyle boss bags top awar...business\n",
      "Halo 2 sells five million copi...tech\n",
      "MSPs hear renewed climate warn...politics\n",
      "Pavey focuses on indoor succes...sport\n",
      "Tories reject rethink on axed ...politics\n",
      "Lib Dems predict 'best ever po...politics\n",
      "Howard attacks 'pay later' Bud...politics\n",
      "Games win for Blu-ray DVD form...tech\n",
      "Labour pig poster 'anti-Semiti...politics\n",
      "Costin aims for comeback in 20...sport\n"
     ]
    }
   ],
   "source": [
    "# The raw text data to learn (list of str)\n",
    "X = res.data\n",
    "\n",
    "# The target labels (e.g. business/entertainment/politics/sport/tech) but as an integer index! (e.g. 0/1/2/3/4)\n",
    "y = res.target\n",
    "\n",
    "target_names = res.target_names\n",
    "print(\"The names of target classes: \", target_names)\n",
    "\n",
    "print(\"\\nSome examples below: \")\n",
    "for i in range(0,10):\n",
    "    text = res.data[i]\n",
    "    target = res.target[i]\n",
    "    category = target_names[target]\n",
    "    print('{text}...{category}'.format(text=text[0:30], category=category))"
   ]
  },
  {
   "cell_type": "markdown",
   "id": "394c3b86",
   "metadata": {},
   "source": [
    "#### 5. Split the dataset into 80% for training and 20% for testing. For this, you must use train test split with the parameter random state set to None"
   ]
  },
  {
   "cell_type": "code",
   "execution_count": 7,
   "id": "3a05b46a",
   "metadata": {},
   "outputs": [],
   "source": [
    "from sklearn.model_selection import train_test_split\n",
    "\n",
    "X_train, X_test, y_train, y_test = train_test_split(X, y, random_state=None)"
   ]
  },
  {
   "cell_type": "markdown",
   "id": "b05913df",
   "metadata": {},
   "source": [
    "#### 4. Pre-process the dataset to have the features ready to be used by a multinomial Naive Bayes classifier. This means that the frequency of each word in each class must be computed and stored in a term-document matrix. For this, you can use feature extraction.text.CountVectorizer"
   ]
  },
  {
   "cell_type": "code",
   "execution_count": 8,
   "id": "5ee6f80d",
   "metadata": {},
   "outputs": [
    {
     "name": "stdout",
     "output_type": "stream",
     "text": [
      "Shape of X_train_counts:  (1668, 26123)\n",
      "y_train length:  1668\n",
      "\n",
      "Vocabulary (A Mapping of Terms to Feature Indices)\n",
      "dominici: 7802\n",
      "backs: 2898\n",
      "lacklustre: 13659\n",
      "france: 9981\n",
      "wing: 25670\n",
      "christophe: 5143\n",
      "says: 20605\n",
      "can: 4515\n",
      "claim: 5225\n",
      "another: 2227\n"
     ]
    }
   ],
   "source": [
    "from sklearn.feature_extraction.text import CountVectorizer\n",
    "\n",
    "# Convert a collection of text documents to a matrix of token counts. (\"Tokenization\")\n",
    "count_vect = CountVectorizer()\n",
    "\n",
    "# Xarray of shape (n_samples, n_features)\n",
    "# https://scikit-learn.org/stable/modules/generated/sklearn.feature_extraction.text.CountVectorizer.html#sklearn.feature_extraction.text.CountVectorizer.fit_transform\n",
    "X_train_counts = count_vect.fit_transform(X_train)\n",
    "\n",
    "print(\"Shape of X_train_counts: \", X_train_counts.shape)\n",
    "print(\"y_train length: \", len(y_train))\n",
    "\n",
    "print(\"\\nVocabulary (A Mapping of Terms to Feature Indices)\")\n",
    "vocabulary = count_vect.vocabulary_\n",
    "names = list(vocabulary.keys())\n",
    "index = list(vocabulary.values())\n",
    "for i in range(0,10):\n",
    "    print(names[i] + \":\",index[i])"
   ]
  },
  {
   "cell_type": "markdown",
   "id": "bba4bd64",
   "metadata": {},
   "source": [
    "#### 6. Train a multinomial Naive Bayes Classifier (naive bayes.MultinomialNB) on the training set using the default parameters and evaluate it on the test set."
   ]
  },
  {
   "cell_type": "code",
   "execution_count": 9,
   "id": "32e5af8a",
   "metadata": {},
   "outputs": [],
   "source": [
    "from sklearn.naive_bayes import MultinomialNB\n",
    "\n",
    "multinomialNB = MultinomialNB()\n",
    "clf = multinomialNB.fit(X_train_counts, y_train)\n",
    "\n",
    "# print(sum(multinomialNB.feature_count_[1,:]))"
   ]
  },
  {
   "cell_type": "code",
   "execution_count": 10,
   "id": "f56a29dd",
   "metadata": {},
   "outputs": [
    {
     "name": "stdout",
     "output_type": "stream",
     "text": [
      "Let's test with a few examples to see if the model makes sense...\n",
      "\n",
      "'MSFT stock hit $300' => business\n",
      "'Intel core processor with 16GB RAM' => tech\n",
      "'GO HABS GO!' => sport\n"
     ]
    }
   ],
   "source": [
    "print(\"Let's test with a few examples to see if the model makes sense...\\n\")\n",
    "\n",
    "docs_new = ['MSFT stock hit $300', 'Intel core processor with 16GB RAM', \"GO HABS GO!\"]\n",
    "X_new_counts = count_vect.transform(docs_new)\n",
    "\n",
    "predicted = clf.predict(X_new_counts)\n",
    "\n",
    "for doc, category in zip(docs_new, predicted):\n",
    "    print('%r => %s' % (doc, target_names[category]))"
   ]
  },
  {
   "cell_type": "code",
   "execution_count": 11,
   "id": "2998cf68",
   "metadata": {},
   "outputs": [],
   "source": [
    "# Now let's actually test the model using X_text, y_test\n",
    "\n",
    "X_test_counts = count_vect.transform(X_test)\n",
    "\n",
    "y_predicted = clf.predict(X_test_counts)"
   ]
  },
  {
   "cell_type": "markdown",
   "id": "a92c54e8",
   "metadata": {},
   "source": [
    "#### 7. In a file called bbc-performance.txt, save the following information: (to make it easier for the TAs, make sure that your output for each sub-question below is clearly marked in your output file, using the headings (a), (b) . . .)"
   ]
  },
  {
   "cell_type": "markdown",
   "id": "2cdb48e4",
   "metadata": {},
   "source": [
    "##### (a) a clear separator (a sequence of hyphens or stars) and string clearly describing the model (e.g. “MultinomialNB default values, try 1”)"
   ]
  },
  {
   "cell_type": "code",
   "execution_count": 12,
   "id": "3900ab79",
   "metadata": {},
   "outputs": [
    {
     "name": "stdout",
     "output_type": "stream",
     "text": [
      "Writing to file...\n"
     ]
    }
   ],
   "source": [
    "# Create a file that can be appended to\n",
    "file_performance = open(\"../output/bbc-performance.txt\", \"a\")\n",
    "\n",
    "# Clear contents\n",
    "file_performance.truncate(0)\n",
    "\n",
    "def write_model_name_to_file(model_name):\n",
    "    file_performance.write(\"\\n(a) **** {model_name} ****\\n\\n\".format(model_name=model_name))\n",
    "\n",
    "write_model_name_to_file(\"MultinomialNB default values, try 1\")\n",
    "print(\"Writing to file...\")"
   ]
  },
  {
   "cell_type": "markdown",
   "id": "5b5aeef6",
   "metadata": {},
   "source": [
    "##### (b) the confusion matrix (you can use confusion matrix)"
   ]
  },
  {
   "cell_type": "code",
   "execution_count": 13,
   "id": "785f8b0b",
   "metadata": {},
   "outputs": [
    {
     "name": "stdout",
     "output_type": "stream",
     "text": [
      "Confusion Matrix:\n",
      " [[117   0   5   0   2]\n",
      " [  0 102   4   0   1]\n",
      " [  2   0  96   0   0]\n",
      " [  1   0   0 124   0]\n",
      " [  0   0   2   0 101]]\n"
     ]
    }
   ],
   "source": [
    "from sklearn.metrics import confusion_matrix\n",
    "\n",
    "cf_matrix = confusion_matrix(y_test, y_predicted)\n",
    "\n",
    "def print_confusion_matrix(cf_matrix):\n",
    "    print('Confusion Matrix:\\n {cf_matrix}'.format(cf_matrix=cf_matrix))\n",
    "    \n",
    "def write_confusion_matrix_to_file(cf_matrix):\n",
    "    file_performance.write(\"(b) Confusion Matrix\" + \"\\n\\n\")\n",
    "    np.savetxt(file_performance, X=cf_matrix.astype(int), fmt ='%i\\t')\n",
    "    file_performance.write(\"\\n\")\n",
    "    \n",
    "print_confusion_matrix(cf_matrix)\n",
    "write_confusion_matrix_to_file(cf_matrix)"
   ]
  },
  {
   "cell_type": "markdown",
   "id": "ffa20e08",
   "metadata": {},
   "source": [
    "##### (c) the precision, recall, and F1-measure for each class (you can use classification report)"
   ]
  },
  {
   "cell_type": "code",
   "execution_count": 14,
   "id": "648f6a31",
   "metadata": {},
   "outputs": [
    {
     "name": "stdout",
     "output_type": "stream",
     "text": [
      "               precision    recall  f1-score   support\n",
      "\n",
      "     business       0.97      0.94      0.96       124\n",
      "entertainment       1.00      0.95      0.98       107\n",
      "     politics       0.90      0.98      0.94        98\n",
      "        sport       1.00      0.99      1.00       125\n",
      "         tech       0.97      0.98      0.98       103\n",
      "\n",
      "     accuracy                           0.97       557\n",
      "    macro avg       0.97      0.97      0.97       557\n",
      " weighted avg       0.97      0.97      0.97       557\n",
      "\n"
     ]
    }
   ],
   "source": [
    "from sklearn import metrics\n",
    "\n",
    "def print_classification_report(y_test, y_predicted, target_names):\n",
    "    report = metrics.classification_report(y_test, y_predicted, target_names=target_names)\n",
    "    print(report)\n",
    "    \n",
    "def write_classification_report_to_file(y_test, y_predicted, target_names):\n",
    "    report = metrics.classification_report(y_test, y_predicted, target_names=target_names)\n",
    "    file_performance.write(\"(c) Classification Report\\n\\n\" + report)\n",
    "    file_performance.write(\"\\n\")\n",
    "    \n",
    "print_classification_report(y_test, y_predicted, target_names)\n",
    "write_classification_report_to_file(y_test, y_predicted, target_names)"
   ]
  },
  {
   "cell_type": "markdown",
   "id": "2177baca",
   "metadata": {},
   "source": [
    "##### (d) the accuracy, macro-average F1 and weighted-average F1 of the model (you can use accuracy score and f1 score)"
   ]
  },
  {
   "cell_type": "code",
   "execution_count": 15,
   "id": "e8a92ecd",
   "metadata": {},
   "outputs": [
    {
     "name": "stdout",
     "output_type": "stream",
     "text": [
      "Accuracy Score:  0.9694793536804309\n",
      "Macro-Average F1:  0.9687015321382393\n",
      "Weighted-Average F1:  0.9697552231430182\n"
     ]
    }
   ],
   "source": [
    "from sklearn.metrics import accuracy_score, f1_score\n",
    "\n",
    "def print_scores(y_test,y_predicted):\n",
    "    print(\"Accuracy Score: \", accuracy_score(y_test, y_predicted))\n",
    "    print(\"Macro-Average F1: \", f1_score(y_test, y_predicted, average=\"macro\"))\n",
    "    print(\"Weighted-Average F1: \", f1_score(y_test, y_predicted, average=\"weighted\"))\n",
    "    \n",
    "def write_scores_to_file(y_test,y_predicted):\n",
    "    file_performance.write(\"(d) Accuracy, Macro-Average F1 and Weighted-Average F1\\n\\n\")\n",
    "    file_performance.write(\"Accuracy Score: \" + str(accuracy_score(y_test, y_predicted)) + \"\\n\")\n",
    "    file_performance.write(\"Macro-Average F1: \" + str(f1_score(y_test, y_predicted, average=\"macro\")) + \"\\n\")\n",
    "    file_performance.write(\"Weighted-Average F1: \" + str(f1_score(y_test, y_predicted, average=\"weighted\")) + \"\\n\")\n",
    "    file_performance.write(\"\\n\")\n",
    "\n",
    "print_scores(y_test, y_predicted)\n",
    "write_scores_to_file(y_test,y_predicted)"
   ]
  },
  {
   "cell_type": "markdown",
   "id": "c0b4a9a7",
   "metadata": {},
   "source": [
    "##### (e) the prior probability of each class"
   ]
  },
  {
   "cell_type": "code",
   "execution_count": 16,
   "id": "551ca2f7",
   "metadata": {},
   "outputs": [
    {
     "name": "stdout",
     "output_type": "stream",
     "text": [
      "{'business': 510, 'entertainment': 386, 'politics': 417, 'sport': 511, 'tech': 401}\n",
      "Total Number of Texts: 2225\n"
     ]
    }
   ],
   "source": [
    "# Recall at the beginning we counted the size of each class\n",
    "print(category_dict)\n",
    "print('Total Number of Texts: {num_texts}'.format(num_texts=num_texts))"
   ]
  },
  {
   "cell_type": "code",
   "execution_count": 17,
   "id": "86e524d4",
   "metadata": {},
   "outputs": [
    {
     "name": "stdout",
     "output_type": "stream",
     "text": [
      "The number of samples encountered for each class: [386. 279. 319. 386. 298.]\n",
      "The total number of samples: 1668.0\n",
      "The prior probabilities of each class: {'business': 0.2314, 'entertainment': 0.1673, 'politics': 0.1912, 'sport': 0.2314, 'tech': 0.1787}\n"
     ]
    }
   ],
   "source": [
    "# Returns a dictionary that holds the prior probabilities of each class\n",
    "def compute_prior_probabilities(multinomialNB):\n",
    "    class_count = multinomialNB.class_count_\n",
    "    total = sum(class_count)\n",
    "    prior_dict = dict()\n",
    "    \n",
    "    for i in range(len(class_count)):\n",
    "        target = target_names[i]\n",
    "        probability = class_count[i] / total\n",
    "        prior_dict[target] = round(probability, 4)\n",
    "        \n",
    "    return prior_dict\n",
    "\n",
    "def print_class_count(multionomialNB):\n",
    "    class_count = multinomialNB.class_count_\n",
    "    total = sum(class_count)\n",
    "    print(\"The number of samples encountered for each class: {class_count}\".format(class_count=class_count))\n",
    "    print(\"The total number of samples: {total}\".format(total=total))\n",
    "    \n",
    "def print_prior_probabilities(multinomialNB):\n",
    "    prior_dict = compute_prior_probabilities(multinomialNB)\n",
    "    print(\"The prior probabilities of each class: {prior_dict}\".format(prior_dict=prior_dict))\n",
    "    \n",
    "def write_prior_probabilities_to_file(multinomialNB):\n",
    "    file_performance.write(\"(e) Prior Probability of Each Class F1\\n\\n\")\n",
    "    prior_dict = compute_prior_probabilities(multinomialNB)\n",
    "    for key in prior_dict:\n",
    "        category = key\n",
    "        probability = prior_dict[key]\n",
    "        file_performance.write(\"{category}: {probability:.4f}\".format(category=category, probability=probability))\n",
    "        file_performance.write(\"\\n\")\n",
    "    file_performance.write(\"\\n\")\n",
    "    \n",
    "print_class_count(multinomialNB)\n",
    "print_prior_probabilities(multinomialNB)\n",
    "write_prior_probabilities_to_file(multinomialNB)"
   ]
  },
  {
   "cell_type": "markdown",
   "id": "ccf35119",
   "metadata": {},
   "source": [
    "##### (f) the size of the vocablary (i.e. the number of different words). For example, if the word potato appears 3 times, you only count it once."
   ]
  },
  {
   "cell_type": "code",
   "execution_count": 18,
   "id": "b2def2d5",
   "metadata": {},
   "outputs": [
    {
     "name": "stdout",
     "output_type": "stream",
     "text": [
      "The size of the vocabulary: 26123\n",
      "\n",
      "Note that this can also be deduced by the number of columns (features) in the document-term matrix:  26123\n",
      "Or this can be computed from the feature counts of the MultionomialNB:  26123\n"
     ]
    }
   ],
   "source": [
    "vocabulary_size = len(vocabulary.keys())\n",
    "\n",
    "def print_vocabulary_size(multinomialNB):\n",
    "    print(\"The size of the vocabulary: {vocabulary_size}\\n\".format(vocabulary_size = vocabulary_size))\n",
    "    print(\"Note that this can also be deduced by the number of columns (features) in the document-term matrix: \", X_train_counts.shape[1])\n",
    "    print(\"Or this can be computed from the feature counts of the MultionomialNB: \", multinomialNB.feature_count_.shape[1])\n",
    "\n",
    "def write_vocabulary_size_to_file(multinomialNB):\n",
    "    file_performance.write(\"(f) The Size of the Vocablary\\n\")\n",
    "    # The number of columns in the term document matrix\n",
    "    vocabulary_size = multinomialNB.feature_count_.shape[1]\n",
    "    file_performance.write(\"The size of the vocabulary: {vocabulary_size}\\n\".format(vocabulary_size = vocabulary_size))\n",
    "    file_performance.write(\"\\n\")\n",
    "\n",
    "print_vocabulary_size(multinomialNB)\n",
    "write_vocabulary_size_to_file(multinomialNB)"
   ]
  },
  {
   "cell_type": "markdown",
   "id": "3a5ec8ed",
   "metadata": {},
   "source": [
    "##### (g) the number of word-tokens in each class (i.e. the number of words in total). For example, if the word potato appears 3 times, you count it 3 times."
   ]
  },
  {
   "cell_type": "code",
   "execution_count": 19,
   "id": "c6103845",
   "metadata": {},
   "outputs": [
    {
     "name": "stdout",
     "output_type": "stream",
     "text": [
      "The number of word tokens by class:  {'business': 123791.0, 'entertainment': 89372.0, 'politics': 142682.0, 'sport': 120788.0, 'tech': 144985.0}\n"
     ]
    }
   ],
   "source": [
    "# generates a dictionary containing the number of word-tokens in each class\n",
    "def compute_word_token_dict(multinomialNB):\n",
    "    word_token_dict = dict()\n",
    "    class_count = multinomialNB.class_count_\n",
    "    feature_count = multinomialNB.feature_count_\n",
    "    \n",
    "    for i in range(len(class_count)):\n",
    "        target = target_names[i]\n",
    "        # Take the sum of all the words for that class\n",
    "        word_token_dict[target] = sum(feature_count[i, :])\n",
    "        \n",
    "    return word_token_dict\n",
    "    \n",
    "def print_word_tokens_by_class(multinomialNB):\n",
    "    word_token_dict = compute_word_token_dict(multinomialNB)\n",
    "    print(\"The number of word tokens by class: \", word_token_dict)\n",
    "    \n",
    "def write_word_tokens_by_class_to_file(multinomialNB):\n",
    "    file_performance.write(\"(g) The number of word-tokens in each class (i.e. the number of words in total)\\n\")\n",
    "    word_token_dict = compute_word_token_dict(multinomialNB)\n",
    "    file_performance.write(\"The number of word tokens by class: \" +  str(word_token_dict))\n",
    "    file_performance.write(\"\\n\\n\")\n",
    "\n",
    "print_word_tokens_by_class(multinomialNB)\n",
    "write_word_tokens_by_class_to_file(multinomialNB)"
   ]
  },
  {
   "cell_type": "markdown",
   "id": "6c92c7e2",
   "metadata": {},
   "source": [
    "##### (h) the number of word-tokens in the entire corpus"
   ]
  },
  {
   "cell_type": "code",
   "execution_count": 20,
   "id": "0ed95f09",
   "metadata": {},
   "outputs": [
    {
     "name": "stdout",
     "output_type": "stream",
     "text": [
      "Total word-tokens in the corpus:  621618.0\n"
     ]
    }
   ],
   "source": [
    "def compute_total_word_\n",
    "\n",
    "def print_word_tokens_total(multinomialNB):\n",
    "    feature_count_ = multinomialNB.feature_count\n",
    "    total = feature_count.sum()\n",
    "    print(\"Total word-tokens in the corpus: \", total)\n",
    "\n",
    "def write_word_tokens_total_to_file(multinomialNB):\n",
    "    file_performance.write(\"(h) The number of word-tokens in the entire corpus\\n\")\n",
    "    feature_count_ = multinomialNB.feature_count\n",
    "    total = feature_count.sum()\n",
    "    file_performance.write(\"Total word-tokens in the corpus: \" + str(total))\n",
    "    file_performance.write(\"\\n\\n\")\n",
    "    \n",
    "print_word_tokens_total(multinomialNB)\n",
    "write_word_tokens_total_to_file(multinomialNB)"
   ]
  },
  {
   "cell_type": "markdown",
   "id": "bbf2cb29",
   "metadata": {},
   "source": [
    "##### (i) the number and percentage of words with a frequency of zero in each class"
   ]
  },
  {
   "cell_type": "code",
   "execution_count": 21,
   "id": "1ca10b9d",
   "metadata": {},
   "outputs": [
    {
     "name": "stdout",
     "output_type": "stream",
     "text": [
      "Recall that the number of features is: 26123\n",
      "The number and percentage of words with a frequency of ZERO in each class is outlined below\n",
      "\n",
      "Count for business: 15752\n",
      "Percentage for business: 60.30%\n",
      "\n",
      "\n",
      "Count for entertainment: 16318\n",
      "Percentage for entertainment: 62.47%\n",
      "\n",
      "\n",
      "Count for politics: 15918\n",
      "Percentage for politics: 60.93%\n",
      "\n",
      "\n",
      "Count for sport: 16765\n",
      "Percentage for sport: 64.18%\n",
      "\n",
      "\n",
      "Count for tech: 15581\n",
      "Percentage for tech: 59.64%\n",
      "\n",
      "\n"
     ]
    }
   ],
   "source": [
    "def print_count_and_percentage(x, y, class_name):\n",
    "    print(\"Count for {class_name}: {count}\".format(class_name=class_name, count=x))\n",
    "    print(\"Percentage for {class_name}: {percentage:.2%}\".format(class_name=class_name, percentage=x/y))\n",
    "    print(\"\\n\")\n",
    "\n",
    "def write_count_and_percentage_to_file(x, y, class_name):\n",
    "    file_performance.write(\"Count for {class_name}: {count}\".format(class_name=class_name, count=x))\n",
    "    file_performance.write(\"\\n\")\n",
    "    file_performance.write(\"Percentage for {class_name}: {percentage:.2%}\".format(class_name=class_name, percentage=x/y))\n",
    "    file_performance.write(\"\\n\")\n",
    "    \n",
    "# returns a dictionary containing the number of words with a frequency zero in each class\n",
    "def compute_frequency_zero_words(multinomialNB):\n",
    "    frequency_zero_dict = dict()\n",
    "    feature_count = multinomialNB.feature_count_\n",
    "    num_features = feature_count.shape[1]\n",
    "    \n",
    "    for i in range(len(target_names)):\n",
    "        target = target_names[i]\n",
    "        count_zero = num_features - np.count_nonzero(feature_count[i,:])\n",
    "        frequency_zero_dict[target] = count_zero\n",
    "        \n",
    "    return frequency_zero_dict\n",
    "    \n",
    "def print_words_with_frequency_zero(multinomialNB):\n",
    "    feature_count = multinomialNB.feature_count_\n",
    "    num_features = feature_count.shape[1]\n",
    "    frequency_zero_dict = compute_frequency_zero_words(multinomialNB)\n",
    "    print(\"Recall that the number of features is: {num_features}\".format(num_features = num_features))\n",
    "    print(\"The number and percentage of words with a frequency of ZERO in each class is outlined below\\n\")\n",
    "    \n",
    "    for key in frequency_zero_dict:\n",
    "        print_count_and_percentage(frequency_zero_dict[key], num_features, key)\n",
    "    \n",
    "def write_words_with_frequency_zero_to_file(multinomialNB):\n",
    "    file_performance.write(\"(i) the number and percentage of words with a frequency of zero in each class\\n\")\n",
    "    feature_count = multinomialNB.feature_count_\n",
    "    num_features = feature_count.shape[1]\n",
    "    frequency_zero_dict = compute_frequency_zero_words(multinomialNB)\n",
    "    \n",
    "    for key in frequency_zero_dict:\n",
    "        write_count_and_percentage_to_file(frequency_zero_dict[key], num_features, key)\n",
    "    \n",
    "print_words_with_frequency_zero(multinomialNB)\n",
    "write_words_with_frequency_zero_to_file(multinomialNB)"
   ]
  },
  {
   "cell_type": "markdown",
   "id": "91956559",
   "metadata": {},
   "source": [
    "##### (j) the number and percentage of words with a frequency of one in the entire corpus"
   ]
  },
  {
   "cell_type": "code",
   "execution_count": 22,
   "id": "41cd29b0",
   "metadata": {},
   "outputs": [
    {
     "ename": "AttributeError",
     "evalue": "'list' object has no attribute 'toarray'",
     "output_type": "error",
     "traceback": [
      "\u001b[1;31m---------------------------------------------------------------------------\u001b[0m",
      "\u001b[1;31mAttributeError\u001b[0m                            Traceback (most recent call last)",
      "\u001b[1;32m<ipython-input-22-33461e7b8840>\u001b[0m in \u001b[0;36m<module>\u001b[1;34m\u001b[0m\n\u001b[0;32m     23\u001b[0m     \u001b[0mfile_performance\u001b[0m\u001b[1;33m.\u001b[0m\u001b[0mwrite\u001b[0m\u001b[1;33m(\u001b[0m\u001b[1;34m\"\\n\\n\"\u001b[0m\u001b[1;33m)\u001b[0m\u001b[1;33m\u001b[0m\u001b[1;33m\u001b[0m\u001b[0m\n\u001b[0;32m     24\u001b[0m \u001b[1;33m\u001b[0m\u001b[0m\n\u001b[1;32m---> 25\u001b[1;33m \u001b[0mnum_words_with_frequency_one\u001b[0m \u001b[1;33m=\u001b[0m \u001b[0mget_num_words_with_frequency_one\u001b[0m\u001b[1;33m(\u001b[0m\u001b[1;33m)\u001b[0m\u001b[1;33m\u001b[0m\u001b[1;33m\u001b[0m\u001b[0m\n\u001b[0m\u001b[0;32m     26\u001b[0m \u001b[1;33m\u001b[0m\u001b[0m\n\u001b[0;32m     27\u001b[0m \u001b[0mprint_num_words_with_frequency_one\u001b[0m\u001b[1;33m(\u001b[0m\u001b[0mnum_words_with_frequency_one\u001b[0m\u001b[1;33m,\u001b[0m \u001b[0mvocabulary_size\u001b[0m\u001b[1;33m)\u001b[0m\u001b[1;33m\u001b[0m\u001b[1;33m\u001b[0m\u001b[0m\n",
      "\u001b[1;32m<ipython-input-22-33461e7b8840>\u001b[0m in \u001b[0;36mget_num_words_with_frequency_one\u001b[1;34m()\u001b[0m\n\u001b[0;32m      3\u001b[0m \u001b[1;33m\u001b[0m\u001b[0m\n\u001b[0;32m      4\u001b[0m     \u001b[1;31m# Iterate through the rows of the term-document matrix\u001b[0m\u001b[1;33m\u001b[0m\u001b[1;33m\u001b[0m\u001b[1;33m\u001b[0m\u001b[0m\n\u001b[1;32m----> 5\u001b[1;33m     \u001b[0mX_array\u001b[0m \u001b[1;33m=\u001b[0m \u001b[0mX\u001b[0m\u001b[1;33m.\u001b[0m\u001b[0mtoarray\u001b[0m\u001b[1;33m(\u001b[0m\u001b[1;33m)\u001b[0m\u001b[1;33m\u001b[0m\u001b[1;33m\u001b[0m\u001b[0m\n\u001b[0m\u001b[0;32m      6\u001b[0m \u001b[1;33m\u001b[0m\u001b[0m\n\u001b[0;32m      7\u001b[0m     \u001b[1;32mfor\u001b[0m \u001b[0mj\u001b[0m \u001b[1;32min\u001b[0m \u001b[0mrange\u001b[0m\u001b[1;33m(\u001b[0m\u001b[0mX\u001b[0m\u001b[1;33m.\u001b[0m\u001b[0mshape\u001b[0m\u001b[1;33m[\u001b[0m\u001b[1;36m1\u001b[0m\u001b[1;33m]\u001b[0m\u001b[1;33m)\u001b[0m\u001b[1;33m:\u001b[0m\u001b[1;33m\u001b[0m\u001b[1;33m\u001b[0m\u001b[0m\n",
      "\u001b[1;31mAttributeError\u001b[0m: 'list' object has no attribute 'toarray'"
     ]
    }
   ],
   "source": [
    "def get_num_words_with_frequency_one(multinomialNB):\n",
    "    feature_count = multinomialNB.feature_count_\n",
    "    frequency_zero_dict = compute_frequency_zero_words(multinomialNB)\n",
    "\n",
    "def print_num_words_with_frequency_one(total, vocabulary_size):\n",
    "    print(\"The number of words with a frequency of one in the entire corpus: \", total)\n",
    "    print(\"The percentage of words with a frequency of one in the entire corpus: {percentage:.2%}\".format(percentage=(total/vocabulary_size)))\n",
    "    \n",
    "def write_num_words_with_frequency_one_to_file(total, vocabulary_size):\n",
    "    file_performance.write(\"(j) the number and percentage of words with a frequency of one in the entire corpus\\n\")\n",
    "    file_performance.write(\"The number of words: \" + str(total))\n",
    "    file_performance.write(\"\\n\")\n",
    "    file_performance.write(\"The percentage of words: {percentage:.2%}\".format(percentage=(total/vocabulary_size)))\n",
    "    file_performance.write(\"\\n\\n\")\n",
    "    \n",
    "# num_words_with_frequency_one = get_num_words_with_frequency_one()\n",
    "\n",
    "# print_num_words_with_frequency_one(num_words_with_frequency_one, vocabulary_size)\n",
    "# write_num_words_with_frequency_one_to_file(num_words_with_frequency_one, vocabulary_size)"
   ]
  },
  {
   "cell_type": "markdown",
   "id": "7efd3ff2",
   "metadata": {},
   "source": [
    "##### (k) your 2 favorite words (that are present in the vocabulary) and their log-prob"
   ]
  },
  {
   "cell_type": "code",
   "execution_count": null,
   "id": "221575d4",
   "metadata": {},
   "outputs": [],
   "source": [
    "feature_index_1 = vocabulary[\"executive\"]\n",
    "feature_index_2 = vocabulary[\"the\"]\n",
    "\n",
    "print(\"Index of word 'executive': {index}\".format(index = feature_index_1))\n",
    "print(\"Index of word 'the': {index}\".format(index = feature_index_2))\n",
    "\n",
    "p1 = multinomialNB.feature_log_prob_\n",
    "\n",
    "log_prob_1 = sum(p1[:, feature_index_1])\n",
    "log_prob_2 = sum(p1[:, feature_index_2])\n",
    "\n",
    "def print_log_prob():\n",
    "    print(\"\\n\")\n",
    "    print(\"log_prob of word 'executive': \", str(log_prob_1))\n",
    "    print(\"log_prob of word 'the': \", str(log_prob_2))\n",
    "    \n",
    "def write_log_prob_to_file():\n",
    "    file_performance.write(\"(k) your 2 favorite words (that are present in the vocabulary) and their log-prob\\n\")\n",
    "    file_performance.write(\"log_prob of word 'executive': \" + str(log_prob_1))\n",
    "    file_performance.write(\"\\n\")\n",
    "    file_performance.write(\"log_prob of word 'the': \" + str(log_prob_2))\n",
    "    file_performance.write(\"\\n\")\n",
    "\n",
    "print_log_prob()\n",
    "write_log_prob_to_file()\n",
    "\n",
    "# Makes sense that the log_prob of \"the\" is higher than the log_prob of \"executive\"!"
   ]
  },
  {
   "cell_type": "markdown",
   "id": "87dd09b6",
   "metadata": {},
   "source": [
    "#### 8. Redo steps 6 and 7 without changing anything (do not redo step 5, the dataset split). Change the model name to something like “MultinomialNB default values, try 2” and append the results to the file bbc-performance.txt."
   ]
  },
  {
   "cell_type": "code",
   "execution_count": null,
   "id": "8bf1907c",
   "metadata": {},
   "outputs": [],
   "source": [
    "def write_separator_to_file():\n",
    "    file_performance.write(\"\\n---------------------------------------------------------------------\\n\")\n",
    "\n",
    "def write_model_to_file(model_name, cf_matrix, y_test, y_predicted, target_names):\n",
    "    write_separator_to_file()\n",
    "    write_model_name_to_file(model_name)\n",
    "    write_confusion_matrix_to_file(cf_matrix)\n",
    "    write_classification_report_to_file(y_test, y_predicted, target_names)\n",
    "    write_scores_to_file(y_test, y_predicted2)\n",
    "    write_prior_probabilities_to_file(prior_dict)\n",
    "    write_vocabulary_size_to_file(vocabulary_size)\n",
    "    write_word_tokens_by_class_to_file(word_tokens_by_class)\n",
    "    write_word_tokens_total_to_file()\n",
    "    write_words_with_frequency_zero_to_file()\n",
    "    write_num_words_with_frequency_one_to_file(num_words_with_frequency_one, vocabulary_size)\n",
    "    write_log_prob_to_file()    "
   ]
  },
  {
   "cell_type": "code",
   "execution_count": null,
   "id": "8d3d9515",
   "metadata": {},
   "outputs": [],
   "source": [
    "# Multinomial NB, take #2\n",
    "\n",
    "clf2 = multinomialNB.fit(X_train, y_train)\n",
    "y_predicted2 = clf2.predict(X_test)\n",
    "\n",
    "cf_matrix2 = confusion_matrix(y_test, y_predicted2)\n",
    "\n",
    "print(cf_matrix2)\n",
    "print(\"\\n\")\n",
    "print_classification_report(y_test, y_predicted2, target_names)\n",
    "print_scores(y_test, y_predicted2)\n",
    "\n",
    "write_model_to_file(\"MultinomialNB default values, try 2\", cf_matrix2, y_test, y_predicted2, target_names)"
   ]
  },
  {
   "cell_type": "markdown",
   "id": "0245b205",
   "metadata": {},
   "source": [
    "#### 9. Redo steps 6 and 7 again, but this time, change the smoothing value to 0.0001. Append the results at the end of bbc-performance.txt."
   ]
  },
  {
   "cell_type": "code",
   "execution_count": null,
   "id": "25db5fa4",
   "metadata": {},
   "outputs": [],
   "source": [
    "multinomialNB3 = MultinomialNB(alpha = 0.0001)\n",
    "\n",
    "clf3 = multinomialNB3.fit(X_train, y_train)\n",
    "y_predicted3 = clf3.predict(X_test)\n",
    "\n",
    "cf_matrix3 = confusion_matrix(y_test, y_predicted3)\n",
    "\n",
    "print(cf_matrix3)\n",
    "print(\"\\n\")\n",
    "print_classification_report(y_test, y_predicted3, target_names)\n",
    "print_scores(y_test, y_predicted3)\n",
    "\n",
    "write_model_to_file(\"MultinomialNB (smoothing = 0.0001)\", cf_matrix3, y_test, y_predicted3, target_names)"
   ]
  },
  {
   "cell_type": "markdown",
   "id": "7342ae9d",
   "metadata": {},
   "source": [
    "#### 10. Redo steps 6 and 7, but this time, change the smoothing value to 0.9. Append the results at the end of bbc-performance.txt."
   ]
  },
  {
   "cell_type": "code",
   "execution_count": null,
   "id": "608fc129",
   "metadata": {},
   "outputs": [],
   "source": [
    "multinomialNB4 = MultinomialNB(alpha = 0.9)\n",
    "\n",
    "clf4 = multinomialNB4.fit(X_train, y_train)\n",
    "y_predicted4 = clf4.predict(X_test)\n",
    "\n",
    "cf_matrix4 = confusion_matrix(y_test, y_predicted4)\n",
    "\n",
    "print(cf_matrix4)\n",
    "print(\"\\n\")\n",
    "print_classification_report(y_test, y_predicted4, target_names)\n",
    "print_scores(y_test, y_predicted4)\n",
    "\n",
    "write_model_to_file(\"MultinomialNB (smoothing = 0.9)\", cf_matrix4, y_test, y_predicted4, target_names)"
   ]
  },
  {
   "cell_type": "markdown",
   "id": "f92bf18b",
   "metadata": {},
   "source": [
    "#### 11. In a separate plain text file called bbc-discussion.txt, explain in 1 to 2 paragraphs:"
   ]
  },
  {
   "cell_type": "markdown",
   "id": "6a66e8c9",
   "metadata": {},
   "source": [
    "##### (a) what metric is best suited to this dataset/task and why (see step (2))"
   ]
  },
  {
   "cell_type": "markdown",
   "id": "214d61f3",
   "metadata": {},
   "source": [
    "##### (b) why the performance of steps (8-10) are the same or are different than those of step (7) above."
   ]
  },
  {
   "cell_type": "code",
   "execution_count": null,
   "id": "9152d124",
   "metadata": {},
   "outputs": [],
   "source": [
    "file_performance.close()"
   ]
  }
 ],
 "metadata": {
  "kernelspec": {
   "display_name": "Python 3",
   "language": "python",
   "name": "python3"
  },
  "language_info": {
   "codemirror_mode": {
    "name": "ipython",
    "version": 3
   },
   "file_extension": ".py",
   "mimetype": "text/x-python",
   "name": "python",
   "nbconvert_exporter": "python",
   "pygments_lexer": "ipython3",
   "version": "3.8.8"
  }
 },
 "nbformat": 4,
 "nbformat_minor": 5
}
