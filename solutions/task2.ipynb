{
 "cells": [
  {
   "cell_type": "markdown",
   "id": "3ef3fa47",
   "metadata": {},
   "source": [
    "## Task 2: Drug Classification"
   ]
  },
  {
   "cell_type": "markdown",
   "id": "5d7be999",
   "metadata": {},
   "source": [
    "Download the BBC dataset provided on Moodle. The dataset, created by [Greene and Cunningham, 2006], is a collection of 2225 documents from the BBC news website already categorized into 5 classes: business, entertainment, politics, sport, and tech.\""
   ]
  },
  {
   "cell_type": "markdown",
   "id": "1b128cc4",
   "metadata": {},
   "source": [
    "**2.Load the dataset in Python**"
   ]
  },
  {
   "cell_type": "code",
   "execution_count": 1,
   "id": "66451815",
   "metadata": {},
   "outputs": [
    {
     "data": {
      "text/html": [
       "<div>\n",
       "<style scoped>\n",
       "    .dataframe tbody tr th:only-of-type {\n",
       "        vertical-align: middle;\n",
       "    }\n",
       "\n",
       "    .dataframe tbody tr th {\n",
       "        vertical-align: top;\n",
       "    }\n",
       "\n",
       "    .dataframe thead th {\n",
       "        text-align: right;\n",
       "    }\n",
       "</style>\n",
       "<table border=\"1\" class=\"dataframe\">\n",
       "  <thead>\n",
       "    <tr style=\"text-align: right;\">\n",
       "      <th></th>\n",
       "      <th>Age</th>\n",
       "      <th>Sex</th>\n",
       "      <th>BP</th>\n",
       "      <th>Cholesterol</th>\n",
       "      <th>Na_to_K</th>\n",
       "      <th>Drug</th>\n",
       "    </tr>\n",
       "  </thead>\n",
       "  <tbody>\n",
       "    <tr>\n",
       "      <th>0</th>\n",
       "      <td>23</td>\n",
       "      <td>F</td>\n",
       "      <td>HIGH</td>\n",
       "      <td>HIGH</td>\n",
       "      <td>25.355</td>\n",
       "      <td>drugY</td>\n",
       "    </tr>\n",
       "    <tr>\n",
       "      <th>1</th>\n",
       "      <td>47</td>\n",
       "      <td>M</td>\n",
       "      <td>LOW</td>\n",
       "      <td>HIGH</td>\n",
       "      <td>13.093</td>\n",
       "      <td>drugC</td>\n",
       "    </tr>\n",
       "    <tr>\n",
       "      <th>2</th>\n",
       "      <td>47</td>\n",
       "      <td>M</td>\n",
       "      <td>LOW</td>\n",
       "      <td>HIGH</td>\n",
       "      <td>10.114</td>\n",
       "      <td>drugC</td>\n",
       "    </tr>\n",
       "    <tr>\n",
       "      <th>3</th>\n",
       "      <td>28</td>\n",
       "      <td>F</td>\n",
       "      <td>NORMAL</td>\n",
       "      <td>HIGH</td>\n",
       "      <td>7.798</td>\n",
       "      <td>drugX</td>\n",
       "    </tr>\n",
       "    <tr>\n",
       "      <th>4</th>\n",
       "      <td>61</td>\n",
       "      <td>F</td>\n",
       "      <td>LOW</td>\n",
       "      <td>HIGH</td>\n",
       "      <td>18.043</td>\n",
       "      <td>drugY</td>\n",
       "    </tr>\n",
       "  </tbody>\n",
       "</table>\n",
       "</div>"
      ],
      "text/plain": [
       "   Age Sex      BP Cholesterol  Na_to_K   Drug\n",
       "0   23   F    HIGH        HIGH   25.355  drugY\n",
       "1   47   M     LOW        HIGH   13.093  drugC\n",
       "2   47   M     LOW        HIGH   10.114  drugC\n",
       "3   28   F  NORMAL        HIGH    7.798  drugX\n",
       "4   61   F     LOW        HIGH   18.043  drugY"
      ]
     },
     "execution_count": 1,
     "metadata": {},
     "output_type": "execute_result"
    }
   ],
   "source": [
    "import pandas as pd\n",
    "data_df = pd.read_csv(\"../data/drug200.csv\")\n",
    "data_df.head()"
   ]
  },
  {
   "cell_type": "markdown",
   "id": "069121be",
   "metadata": {},
   "source": [
    "**3.Plot the distribution of the instances in each class and store the graphic in a file called drug-distribution.pdf. You can use matplotlib.pyplot. This pre-analysis will allow you to determine if the classes are balanced, and which metric is more appropriate to use to evaluate the performance of your classifier.**"
   ]
  },
  {
   "cell_type": "code",
   "execution_count": 2,
   "id": "e5b76192",
   "metadata": {},
   "outputs": [
    {
     "data": {
      "image/png": "[encoded data removed]",
      "text/plain": [
       "<Figure size 432x288 with 1 Axes>"
      ]
     },
     "metadata": {
      "needs_background": "light"
     },
     "output_type": "display_data"
    }
   ],
   "source": [
    "import numpy as np\n",
    "import matplotlib.pyplot as plt\n",
    "\n",
    "#drug_data = data_df.to_numpy()\n",
    "\n",
    "drug_dict = dict()\n",
    "\n",
    "drug_dict['drugA'] = len(data_df.loc[data_df['Drug']== 'drugA'])\n",
    "drug_dict['drugB'] = len(data_df.loc[data_df['Drug']== 'drugB'])\n",
    "drug_dict['drugC'] = len(data_df.loc[data_df['Drug']== 'drugC'])\n",
    "drug_dict['drugX'] = len(data_df.loc[data_df['Drug']== 'drugX'])\n",
    "drug_dict['drugY'] = len(data_df.loc[data_df['Drug']== 'drugY'])\n",
    "\n",
    "classes = list(drug_dict.keys())\n",
    "instances = list(drug_dict.values())\n",
    "\n",
    "plt.bar(classes, instances, color = 'red', width = 0.6)\n",
    "\n",
    "plt.xlabel(\"Drug Classes\")\n",
    "plt.ylabel(\"No. of Instances\")\n",
    "plt.title(\"Distribution of Instances in Each Class\")\n",
    "plt.savefig(\"../output/drug-distribution.pdf\") \n",
    "plt.show()\n",
    "\n",
    "\n",
    "\n"
   ]
  },
  {
   "cell_type": "markdown",
   "id": "1cf7801d",
   "metadata": {},
   "source": [
    "**4.Convert all ordinal and nominal features in numerical format. Make sure that your converted format respects the ordering of ordinal features, and does not introduce any ordering for nominal features. You may want to take a look at pandas.get dummies and pandas.Categorical to do this.**"
   ]
  },
  {
   "cell_type": "code",
   "execution_count": 3,
   "id": "7a2ed92d",
   "metadata": {},
   "outputs": [
    {
     "data": {
      "text/html": [
       "<div>\n",
       "<style scoped>\n",
       "    .dataframe tbody tr th:only-of-type {\n",
       "        vertical-align: middle;\n",
       "    }\n",
       "\n",
       "    .dataframe tbody tr th {\n",
       "        vertical-align: top;\n",
       "    }\n",
       "\n",
       "    .dataframe thead th {\n",
       "        text-align: right;\n",
       "    }\n",
       "</style>\n",
       "<table border=\"1\" class=\"dataframe\">\n",
       "  <thead>\n",
       "    <tr style=\"text-align: right;\">\n",
       "      <th></th>\n",
       "      <th>Age</th>\n",
       "      <th>BP</th>\n",
       "      <th>Cholesterol</th>\n",
       "      <th>Na_to_K</th>\n",
       "      <th>Drug</th>\n",
       "      <th>Sex_F</th>\n",
       "      <th>Sex_M</th>\n",
       "    </tr>\n",
       "  </thead>\n",
       "  <tbody>\n",
       "    <tr>\n",
       "      <th>0</th>\n",
       "      <td>23</td>\n",
       "      <td>2</td>\n",
       "      <td>1</td>\n",
       "      <td>25.355</td>\n",
       "      <td>drugY</td>\n",
       "      <td>1</td>\n",
       "      <td>0</td>\n",
       "    </tr>\n",
       "    <tr>\n",
       "      <th>1</th>\n",
       "      <td>47</td>\n",
       "      <td>0</td>\n",
       "      <td>1</td>\n",
       "      <td>13.093</td>\n",
       "      <td>drugC</td>\n",
       "      <td>0</td>\n",
       "      <td>1</td>\n",
       "    </tr>\n",
       "    <tr>\n",
       "      <th>2</th>\n",
       "      <td>47</td>\n",
       "      <td>0</td>\n",
       "      <td>1</td>\n",
       "      <td>10.114</td>\n",
       "      <td>drugC</td>\n",
       "      <td>0</td>\n",
       "      <td>1</td>\n",
       "    </tr>\n",
       "    <tr>\n",
       "      <th>3</th>\n",
       "      <td>28</td>\n",
       "      <td>1</td>\n",
       "      <td>1</td>\n",
       "      <td>7.798</td>\n",
       "      <td>drugX</td>\n",
       "      <td>1</td>\n",
       "      <td>0</td>\n",
       "    </tr>\n",
       "    <tr>\n",
       "      <th>4</th>\n",
       "      <td>61</td>\n",
       "      <td>0</td>\n",
       "      <td>1</td>\n",
       "      <td>18.043</td>\n",
       "      <td>drugY</td>\n",
       "      <td>1</td>\n",
       "      <td>0</td>\n",
       "    </tr>\n",
       "  </tbody>\n",
       "</table>\n",
       "</div>"
      ],
      "text/plain": [
       "   Age  BP  Cholesterol  Na_to_K   Drug  Sex_F  Sex_M\n",
       "0   23   2            1   25.355  drugY      1      0\n",
       "1   47   0            1   13.093  drugC      0      1\n",
       "2   47   0            1   10.114  drugC      0      1\n",
       "3   28   1            1    7.798  drugX      1      0\n",
       "4   61   0            1   18.043  drugY      1      0"
      ]
     },
     "execution_count": 3,
     "metadata": {},
     "output_type": "execute_result"
    }
   ],
   "source": [
    "#Converts nominal column \"Sex\" to numerical format using pandas.get_dummies function\n",
    "data_df = pd.get_dummies(data_df, columns=['Sex'])\n",
    "\n",
    "#Converts ordinal column \"BP\" to numerical format using pandas.Categorical function\n",
    "data_df.BP = pd.Categorical(data_df.BP,['LOW','NORMAL','HIGH'],ordered=True)\n",
    "data_df.BP = data_df.BP.cat.codes\n",
    "\n",
    "#Converts ordinal column \"Cholestrol\" to numerical format using pandas.Categorical function\n",
    "data_df.Cholesterol = pd.Categorical(data_df.Cholesterol,['NORMAL','HIGH'],ordered=True)\n",
    "data_df.Cholesterol = data_df.Cholesterol.cat.codes\n",
    "\n",
    "data_df.head()\n"
   ]
  },
  {
   "cell_type": "markdown",
   "id": "8bca563c",
   "metadata": {},
   "source": [
    "**5.Split the dataset using train test split using the default parameter values.**"
   ]
  },
  {
   "cell_type": "code",
   "execution_count": 4,
   "id": "374c86eb",
   "metadata": {},
   "outputs": [],
   "source": [
    "from sklearn.model_selection import train_test_split\n",
    "\n",
    "#Seperates ouput (classes) column from features columns\n",
    "df_output = data_df.Drug \n",
    "df_samples = data_df.drop(columns=['Drug'])\n",
    "\n",
    "X_train, X_test, y_train, y_test = train_test_split(df_samples, df_output)\n"
   ]
  },
  {
   "cell_type": "markdown",
   "id": "b3e7a393",
   "metadata": {},
   "source": [
    "**6.Run 6 different classifiers\n",
    "a) NB: a Gaussian Naive Bayes Classifier (naive bayes.GaussianNB) with the default parameters.**"
   ]
  },
  {
   "cell_type": "code",
   "execution_count": 5,
   "id": "20660188",
   "metadata": {},
   "outputs": [
    {
     "name": "stdout",
     "output_type": "stream",
     "text": [
      "Number of mislabeled instances out of a total 50 test instances : 6\n"
     ]
    }
   ],
   "source": [
    "from sklearn.naive_bayes import GaussianNB\n",
    "\n",
    "gnb = GaussianNB()\n",
    "y_pred_gnb = gnb.fit(X_train, y_train).predict(X_test)\n",
    "#y_pred_gnb\n",
    "\n",
    "print(\"Number of mislabeled instances out of a total %d test instances : %d\" % (X_test.shape[0], (y_test != y_pred_gnb).sum()))\n"
   ]
  },
  {
   "cell_type": "markdown",
   "id": "b802af3c",
   "metadata": {},
   "source": [
    "**b) Base-DT: a Decision Tree (tree.DecisionTreeClassifier) with the default parameters.**"
   ]
  },
  {
   "cell_type": "code",
   "execution_count": 6,
   "id": "16849f8b",
   "metadata": {},
   "outputs": [
    {
     "name": "stdout",
     "output_type": "stream",
     "text": [
      "Number of mislabeled instances out of a total 50 test instances : 0\n"
     ]
    }
   ],
   "source": [
    "from sklearn.tree import DecisionTreeClassifier\n",
    "\n",
    "clf = DecisionTreeClassifier()\n",
    "y_pred_tree = clf.fit(X_train, y_train).predict(X_test)\n",
    "\n",
    "print(\"Number of mislabeled instances out of a total %d test instances : %d\" % (X_test.shape[0], (y_test != y_pred_tree).sum()))\n",
    "\n"
   ]
  },
  {
   "cell_type": "markdown",
   "id": "fe83e8e8",
   "metadata": {},
   "source": [
    "**c)A better performing Decision Tree found using (GridSearchCV).**"
   ]
  },
  {
   "cell_type": "code",
   "execution_count": 7,
   "id": "fc98e17f",
   "metadata": {},
   "outputs": [
    {
     "name": "stdout",
     "output_type": "stream",
     "text": [
      "Number of mislabeled instances out of a total 50 test instances : 0\n"
     ]
    }
   ],
   "source": [
    "from sklearn.model_selection import GridSearchCV\n",
    "\n",
    "\n",
    "param_dist={\n",
    "    \"criterion\":[\"gini\",\"entropy\"],\n",
    "    \"max_depth\":[5,10],\n",
    "    \"min_samples_split\":[2,4,6]\n",
    "}\n",
    "\n",
    "grid = GridSearchCV(clf,param_grid=param_dist)\n",
    "\n",
    "grid.fit(X_train,y_train)\n",
    "\n",
    "#Creates new model with best obtained hyper parameters \n",
    "clf_grid = DecisionTreeClassifier(criterion=grid.best_params_['criterion'], \n",
    "                                  max_depth=grid.best_params_['max_depth'],\n",
    "                                 min_samples_split=grid.best_params_['min_samples_split'])\n",
    "\n",
    "\n",
    "y_pred_tree_grid = clf_grid.fit(X_train, y_train).predict(X_test)\n",
    "\n",
    "print(\"Number of mislabeled instances out of a total %d test instances : %d\" % (X_test.shape[0], (y_test != y_pred_tree_grid).sum()))\n",
    "\n"
   ]
  },
  {
   "cell_type": "markdown",
   "id": "3a8e5b18",
   "metadata": {},
   "source": [
    "**d)A Perceptron (linear model.Perceptron), with default parameter values.**"
   ]
  },
  {
   "cell_type": "code",
   "execution_count": 8,
   "id": "68891b1f",
   "metadata": {},
   "outputs": [
    {
     "name": "stdout",
     "output_type": "stream",
     "text": [
      "Number of mislabeled instances out of a total 50 test instances : 23\n"
     ]
    }
   ],
   "source": [
    "from sklearn.linear_model import Perceptron\n",
    "\n",
    "clf_perc = Perceptron()\n",
    "\n",
    "y_pred_perc = clf_perc.fit(X_train, y_train).predict(X_test)\n",
    "\n",
    "print(\"Number of mislabeled instances out of a total %d test instances : %d\" % (X_test.shape[0], (y_test != y_pred_perc).sum()))\n"
   ]
  },
  {
   "cell_type": "markdown",
   "id": "459effa2",
   "metadata": {},
   "source": [
    "**e) A Multi-Layered Perceptron (neural network.MLPClassifier) with 1 hidden layer of 100 neurons, sigmoid/logistic as activation function, stochastic gradient descent, and default values for the rest of the parameters.**"
   ]
  },
  {
   "cell_type": "code",
   "execution_count": 9,
   "id": "be4e85d6",
   "metadata": {},
   "outputs": [
    {
     "name": "stdout",
     "output_type": "stream",
     "text": [
      "Number of mislabeled instances out of a total 50 test instances : 22\n"
     ]
    },
    {
     "name": "stderr",
     "output_type": "stream",
     "text": [
      "/Users/gianlucalepore/opt/miniconda3/lib/python3.7/site-packages/sklearn/neural_network/_multilayer_perceptron.py:571: ConvergenceWarning: Stochastic Optimizer: Maximum iterations (200) reached and the optimization hasn't converged yet.\n",
      "  % self.max_iter, ConvergenceWarning)\n"
     ]
    }
   ],
   "source": [
    "from sklearn.neural_network import MLPClassifier\n",
    "\n",
    "clf_mlp = MLPClassifier(activation = 'logistic', solver = 'sgd')\n",
    "\n",
    "y_pred_mlp = clf_mlp.fit(X_train, y_train).predict(X_test)\n",
    "\n",
    "print(\"Number of mislabeled instances out of a total %d test instances : %d\" % (X_test.shape[0], (y_test != y_pred_mlp).sum()))\n"
   ]
  },
  {
   "cell_type": "markdown",
   "id": "4cf0a45a",
   "metadata": {},
   "source": [
    "**f) A better performing Multi-Layered Perceptron found using grid search.**"
   ]
  },
  {
   "cell_type": "code",
   "execution_count": 10,
   "id": "fdd59d7f",
   "metadata": {},
   "outputs": [
    {
     "name": "stderr",
     "output_type": "stream",
     "text": [
      "/Users/gianlucalepore/opt/miniconda3/lib/python3.7/site-packages/sklearn/neural_network/_multilayer_perceptron.py:571: ConvergenceWarning: Stochastic Optimizer: Maximum iterations (200) reached and the optimization hasn't converged yet.\n",
      "  % self.max_iter, ConvergenceWarning)\n",
      "/Users/gianlucalepore/opt/miniconda3/lib/python3.7/site-packages/sklearn/neural_network/_multilayer_perceptron.py:571: ConvergenceWarning: Stochastic Optimizer: Maximum iterations (200) reached and the optimization hasn't converged yet.\n",
      "  % self.max_iter, ConvergenceWarning)\n",
      "/Users/gianlucalepore/opt/miniconda3/lib/python3.7/site-packages/sklearn/neural_network/_multilayer_perceptron.py:571: ConvergenceWarning: Stochastic Optimizer: Maximum iterations (200) reached and the optimization hasn't converged yet.\n",
      "  % self.max_iter, ConvergenceWarning)\n",
      "/Users/gianlucalepore/opt/miniconda3/lib/python3.7/site-packages/sklearn/neural_network/_multilayer_perceptron.py:571: ConvergenceWarning: Stochastic Optimizer: Maximum iterations (200) reached and the optimization hasn't converged yet.\n",
      "  % self.max_iter, ConvergenceWarning)\n",
      "/Users/gianlucalepore/opt/miniconda3/lib/python3.7/site-packages/sklearn/neural_network/_multilayer_perceptron.py:571: ConvergenceWarning: Stochastic Optimizer: Maximum iterations (200) reached and the optimization hasn't converged yet.\n",
      "  % self.max_iter, ConvergenceWarning)\n",
      "/Users/gianlucalepore/opt/miniconda3/lib/python3.7/site-packages/sklearn/neural_network/_multilayer_perceptron.py:571: ConvergenceWarning: Stochastic Optimizer: Maximum iterations (200) reached and the optimization hasn't converged yet.\n",
      "  % self.max_iter, ConvergenceWarning)\n",
      "/Users/gianlucalepore/opt/miniconda3/lib/python3.7/site-packages/sklearn/neural_network/_multilayer_perceptron.py:571: ConvergenceWarning: Stochastic Optimizer: Maximum iterations (200) reached and the optimization hasn't converged yet.\n",
      "  % self.max_iter, ConvergenceWarning)\n",
      "/Users/gianlucalepore/opt/miniconda3/lib/python3.7/site-packages/sklearn/neural_network/_multilayer_perceptron.py:571: ConvergenceWarning: Stochastic Optimizer: Maximum iterations (200) reached and the optimization hasn't converged yet.\n",
      "  % self.max_iter, ConvergenceWarning)\n",
      "/Users/gianlucalepore/opt/miniconda3/lib/python3.7/site-packages/sklearn/neural_network/_multilayer_perceptron.py:571: ConvergenceWarning: Stochastic Optimizer: Maximum iterations (200) reached and the optimization hasn't converged yet.\n",
      "  % self.max_iter, ConvergenceWarning)\n",
      "/Users/gianlucalepore/opt/miniconda3/lib/python3.7/site-packages/sklearn/neural_network/_multilayer_perceptron.py:571: ConvergenceWarning: Stochastic Optimizer: Maximum iterations (200) reached and the optimization hasn't converged yet.\n",
      "  % self.max_iter, ConvergenceWarning)\n",
      "/Users/gianlucalepore/opt/miniconda3/lib/python3.7/site-packages/sklearn/neural_network/_multilayer_perceptron.py:571: ConvergenceWarning: Stochastic Optimizer: Maximum iterations (200) reached and the optimization hasn't converged yet.\n",
      "  % self.max_iter, ConvergenceWarning)\n",
      "/Users/gianlucalepore/opt/miniconda3/lib/python3.7/site-packages/sklearn/neural_network/_multilayer_perceptron.py:571: ConvergenceWarning: Stochastic Optimizer: Maximum iterations (200) reached and the optimization hasn't converged yet.\n",
      "  % self.max_iter, ConvergenceWarning)\n",
      "/Users/gianlucalepore/opt/miniconda3/lib/python3.7/site-packages/sklearn/neural_network/_multilayer_perceptron.py:571: ConvergenceWarning: Stochastic Optimizer: Maximum iterations (200) reached and the optimization hasn't converged yet.\n",
      "  % self.max_iter, ConvergenceWarning)\n",
      "/Users/gianlucalepore/opt/miniconda3/lib/python3.7/site-packages/sklearn/neural_network/_multilayer_perceptron.py:571: ConvergenceWarning: Stochastic Optimizer: Maximum iterations (200) reached and the optimization hasn't converged yet.\n",
      "  % self.max_iter, ConvergenceWarning)\n",
      "/Users/gianlucalepore/opt/miniconda3/lib/python3.7/site-packages/sklearn/neural_network/_multilayer_perceptron.py:571: ConvergenceWarning: Stochastic Optimizer: Maximum iterations (200) reached and the optimization hasn't converged yet.\n",
      "  % self.max_iter, ConvergenceWarning)\n",
      "/Users/gianlucalepore/opt/miniconda3/lib/python3.7/site-packages/sklearn/neural_network/_multilayer_perceptron.py:571: ConvergenceWarning: Stochastic Optimizer: Maximum iterations (200) reached and the optimization hasn't converged yet.\n",
      "  % self.max_iter, ConvergenceWarning)\n",
      "/Users/gianlucalepore/opt/miniconda3/lib/python3.7/site-packages/sklearn/neural_network/_multilayer_perceptron.py:571: ConvergenceWarning: Stochastic Optimizer: Maximum iterations (200) reached and the optimization hasn't converged yet.\n",
      "  % self.max_iter, ConvergenceWarning)\n",
      "/Users/gianlucalepore/opt/miniconda3/lib/python3.7/site-packages/sklearn/neural_network/_multilayer_perceptron.py:571: ConvergenceWarning: Stochastic Optimizer: Maximum iterations (200) reached and the optimization hasn't converged yet.\n",
      "  % self.max_iter, ConvergenceWarning)\n",
      "/Users/gianlucalepore/opt/miniconda3/lib/python3.7/site-packages/sklearn/neural_network/_multilayer_perceptron.py:571: ConvergenceWarning: Stochastic Optimizer: Maximum iterations (200) reached and the optimization hasn't converged yet.\n",
      "  % self.max_iter, ConvergenceWarning)\n",
      "/Users/gianlucalepore/opt/miniconda3/lib/python3.7/site-packages/sklearn/neural_network/_multilayer_perceptron.py:571: ConvergenceWarning: Stochastic Optimizer: Maximum iterations (200) reached and the optimization hasn't converged yet.\n",
      "  % self.max_iter, ConvergenceWarning)\n",
      "/Users/gianlucalepore/opt/miniconda3/lib/python3.7/site-packages/sklearn/neural_network/_multilayer_perceptron.py:571: ConvergenceWarning: Stochastic Optimizer: Maximum iterations (200) reached and the optimization hasn't converged yet.\n",
      "  % self.max_iter, ConvergenceWarning)\n",
      "/Users/gianlucalepore/opt/miniconda3/lib/python3.7/site-packages/sklearn/neural_network/_multilayer_perceptron.py:571: ConvergenceWarning: Stochastic Optimizer: Maximum iterations (200) reached and the optimization hasn't converged yet.\n",
      "  % self.max_iter, ConvergenceWarning)\n",
      "/Users/gianlucalepore/opt/miniconda3/lib/python3.7/site-packages/sklearn/neural_network/_multilayer_perceptron.py:571: ConvergenceWarning: Stochastic Optimizer: Maximum iterations (200) reached and the optimization hasn't converged yet.\n",
      "  % self.max_iter, ConvergenceWarning)\n",
      "/Users/gianlucalepore/opt/miniconda3/lib/python3.7/site-packages/sklearn/neural_network/_multilayer_perceptron.py:571: ConvergenceWarning: Stochastic Optimizer: Maximum iterations (200) reached and the optimization hasn't converged yet.\n",
      "  % self.max_iter, ConvergenceWarning)\n",
      "/Users/gianlucalepore/opt/miniconda3/lib/python3.7/site-packages/sklearn/neural_network/_multilayer_perceptron.py:571: ConvergenceWarning: Stochastic Optimizer: Maximum iterations (200) reached and the optimization hasn't converged yet.\n",
      "  % self.max_iter, ConvergenceWarning)\n",
      "/Users/gianlucalepore/opt/miniconda3/lib/python3.7/site-packages/sklearn/neural_network/_multilayer_perceptron.py:571: ConvergenceWarning: Stochastic Optimizer: Maximum iterations (200) reached and the optimization hasn't converged yet.\n",
      "  % self.max_iter, ConvergenceWarning)\n",
      "/Users/gianlucalepore/opt/miniconda3/lib/python3.7/site-packages/sklearn/neural_network/_multilayer_perceptron.py:571: ConvergenceWarning: Stochastic Optimizer: Maximum iterations (200) reached and the optimization hasn't converged yet.\n",
      "  % self.max_iter, ConvergenceWarning)\n",
      "/Users/gianlucalepore/opt/miniconda3/lib/python3.7/site-packages/sklearn/neural_network/_multilayer_perceptron.py:571: ConvergenceWarning: Stochastic Optimizer: Maximum iterations (200) reached and the optimization hasn't converged yet.\n",
      "  % self.max_iter, ConvergenceWarning)\n",
      "/Users/gianlucalepore/opt/miniconda3/lib/python3.7/site-packages/sklearn/neural_network/_multilayer_perceptron.py:571: ConvergenceWarning: Stochastic Optimizer: Maximum iterations (200) reached and the optimization hasn't converged yet.\n",
      "  % self.max_iter, ConvergenceWarning)\n",
      "/Users/gianlucalepore/opt/miniconda3/lib/python3.7/site-packages/sklearn/neural_network/_multilayer_perceptron.py:571: ConvergenceWarning: Stochastic Optimizer: Maximum iterations (200) reached and the optimization hasn't converged yet.\n",
      "  % self.max_iter, ConvergenceWarning)\n"
     ]
    },
    {
     "name": "stderr",
     "output_type": "stream",
     "text": [
      "/Users/gianlucalepore/opt/miniconda3/lib/python3.7/site-packages/sklearn/neural_network/_multilayer_perceptron.py:571: ConvergenceWarning: Stochastic Optimizer: Maximum iterations (200) reached and the optimization hasn't converged yet.\n",
      "  % self.max_iter, ConvergenceWarning)\n",
      "/Users/gianlucalepore/opt/miniconda3/lib/python3.7/site-packages/sklearn/neural_network/_multilayer_perceptron.py:571: ConvergenceWarning: Stochastic Optimizer: Maximum iterations (200) reached and the optimization hasn't converged yet.\n",
      "  % self.max_iter, ConvergenceWarning)\n",
      "/Users/gianlucalepore/opt/miniconda3/lib/python3.7/site-packages/sklearn/neural_network/_multilayer_perceptron.py:571: ConvergenceWarning: Stochastic Optimizer: Maximum iterations (200) reached and the optimization hasn't converged yet.\n",
      "  % self.max_iter, ConvergenceWarning)\n",
      "/Users/gianlucalepore/opt/miniconda3/lib/python3.7/site-packages/sklearn/neural_network/_multilayer_perceptron.py:571: ConvergenceWarning: Stochastic Optimizer: Maximum iterations (200) reached and the optimization hasn't converged yet.\n",
      "  % self.max_iter, ConvergenceWarning)\n",
      "/Users/gianlucalepore/opt/miniconda3/lib/python3.7/site-packages/sklearn/neural_network/_multilayer_perceptron.py:571: ConvergenceWarning: Stochastic Optimizer: Maximum iterations (200) reached and the optimization hasn't converged yet.\n",
      "  % self.max_iter, ConvergenceWarning)\n",
      "/Users/gianlucalepore/opt/miniconda3/lib/python3.7/site-packages/sklearn/neural_network/_multilayer_perceptron.py:571: ConvergenceWarning: Stochastic Optimizer: Maximum iterations (200) reached and the optimization hasn't converged yet.\n",
      "  % self.max_iter, ConvergenceWarning)\n",
      "/Users/gianlucalepore/opt/miniconda3/lib/python3.7/site-packages/sklearn/neural_network/_multilayer_perceptron.py:571: ConvergenceWarning: Stochastic Optimizer: Maximum iterations (200) reached and the optimization hasn't converged yet.\n",
      "  % self.max_iter, ConvergenceWarning)\n",
      "/Users/gianlucalepore/opt/miniconda3/lib/python3.7/site-packages/sklearn/neural_network/_multilayer_perceptron.py:571: ConvergenceWarning: Stochastic Optimizer: Maximum iterations (200) reached and the optimization hasn't converged yet.\n",
      "  % self.max_iter, ConvergenceWarning)\n",
      "/Users/gianlucalepore/opt/miniconda3/lib/python3.7/site-packages/sklearn/neural_network/_multilayer_perceptron.py:571: ConvergenceWarning: Stochastic Optimizer: Maximum iterations (200) reached and the optimization hasn't converged yet.\n",
      "  % self.max_iter, ConvergenceWarning)\n",
      "/Users/gianlucalepore/opt/miniconda3/lib/python3.7/site-packages/sklearn/neural_network/_multilayer_perceptron.py:571: ConvergenceWarning: Stochastic Optimizer: Maximum iterations (200) reached and the optimization hasn't converged yet.\n",
      "  % self.max_iter, ConvergenceWarning)\n",
      "/Users/gianlucalepore/opt/miniconda3/lib/python3.7/site-packages/sklearn/neural_network/_multilayer_perceptron.py:571: ConvergenceWarning: Stochastic Optimizer: Maximum iterations (200) reached and the optimization hasn't converged yet.\n",
      "  % self.max_iter, ConvergenceWarning)\n",
      "/Users/gianlucalepore/opt/miniconda3/lib/python3.7/site-packages/sklearn/neural_network/_multilayer_perceptron.py:571: ConvergenceWarning: Stochastic Optimizer: Maximum iterations (200) reached and the optimization hasn't converged yet.\n",
      "  % self.max_iter, ConvergenceWarning)\n",
      "/Users/gianlucalepore/opt/miniconda3/lib/python3.7/site-packages/sklearn/neural_network/_multilayer_perceptron.py:571: ConvergenceWarning: Stochastic Optimizer: Maximum iterations (200) reached and the optimization hasn't converged yet.\n",
      "  % self.max_iter, ConvergenceWarning)\n",
      "/Users/gianlucalepore/opt/miniconda3/lib/python3.7/site-packages/sklearn/neural_network/_multilayer_perceptron.py:571: ConvergenceWarning: Stochastic Optimizer: Maximum iterations (200) reached and the optimization hasn't converged yet.\n",
      "  % self.max_iter, ConvergenceWarning)\n",
      "/Users/gianlucalepore/opt/miniconda3/lib/python3.7/site-packages/sklearn/neural_network/_multilayer_perceptron.py:571: ConvergenceWarning: Stochastic Optimizer: Maximum iterations (200) reached and the optimization hasn't converged yet.\n",
      "  % self.max_iter, ConvergenceWarning)\n",
      "/Users/gianlucalepore/opt/miniconda3/lib/python3.7/site-packages/sklearn/neural_network/_multilayer_perceptron.py:571: ConvergenceWarning: Stochastic Optimizer: Maximum iterations (200) reached and the optimization hasn't converged yet.\n",
      "  % self.max_iter, ConvergenceWarning)\n",
      "/Users/gianlucalepore/opt/miniconda3/lib/python3.7/site-packages/sklearn/neural_network/_multilayer_perceptron.py:571: ConvergenceWarning: Stochastic Optimizer: Maximum iterations (200) reached and the optimization hasn't converged yet.\n",
      "  % self.max_iter, ConvergenceWarning)\n",
      "/Users/gianlucalepore/opt/miniconda3/lib/python3.7/site-packages/sklearn/neural_network/_multilayer_perceptron.py:571: ConvergenceWarning: Stochastic Optimizer: Maximum iterations (200) reached and the optimization hasn't converged yet.\n",
      "  % self.max_iter, ConvergenceWarning)\n",
      "/Users/gianlucalepore/opt/miniconda3/lib/python3.7/site-packages/sklearn/neural_network/_multilayer_perceptron.py:571: ConvergenceWarning: Stochastic Optimizer: Maximum iterations (200) reached and the optimization hasn't converged yet.\n",
      "  % self.max_iter, ConvergenceWarning)\n",
      "/Users/gianlucalepore/opt/miniconda3/lib/python3.7/site-packages/sklearn/neural_network/_multilayer_perceptron.py:571: ConvergenceWarning: Stochastic Optimizer: Maximum iterations (200) reached and the optimization hasn't converged yet.\n",
      "  % self.max_iter, ConvergenceWarning)\n",
      "/Users/gianlucalepore/opt/miniconda3/lib/python3.7/site-packages/sklearn/neural_network/_multilayer_perceptron.py:571: ConvergenceWarning: Stochastic Optimizer: Maximum iterations (200) reached and the optimization hasn't converged yet.\n",
      "  % self.max_iter, ConvergenceWarning)\n",
      "/Users/gianlucalepore/opt/miniconda3/lib/python3.7/site-packages/sklearn/neural_network/_multilayer_perceptron.py:571: ConvergenceWarning: Stochastic Optimizer: Maximum iterations (200) reached and the optimization hasn't converged yet.\n",
      "  % self.max_iter, ConvergenceWarning)\n",
      "/Users/gianlucalepore/opt/miniconda3/lib/python3.7/site-packages/sklearn/neural_network/_multilayer_perceptron.py:571: ConvergenceWarning: Stochastic Optimizer: Maximum iterations (200) reached and the optimization hasn't converged yet.\n",
      "  % self.max_iter, ConvergenceWarning)\n",
      "/Users/gianlucalepore/opt/miniconda3/lib/python3.7/site-packages/sklearn/neural_network/_multilayer_perceptron.py:571: ConvergenceWarning: Stochastic Optimizer: Maximum iterations (200) reached and the optimization hasn't converged yet.\n",
      "  % self.max_iter, ConvergenceWarning)\n",
      "/Users/gianlucalepore/opt/miniconda3/lib/python3.7/site-packages/sklearn/neural_network/_multilayer_perceptron.py:571: ConvergenceWarning: Stochastic Optimizer: Maximum iterations (200) reached and the optimization hasn't converged yet.\n",
      "  % self.max_iter, ConvergenceWarning)\n",
      "/Users/gianlucalepore/opt/miniconda3/lib/python3.7/site-packages/sklearn/neural_network/_multilayer_perceptron.py:571: ConvergenceWarning: Stochastic Optimizer: Maximum iterations (200) reached and the optimization hasn't converged yet.\n",
      "  % self.max_iter, ConvergenceWarning)\n",
      "/Users/gianlucalepore/opt/miniconda3/lib/python3.7/site-packages/sklearn/neural_network/_multilayer_perceptron.py:571: ConvergenceWarning: Stochastic Optimizer: Maximum iterations (200) reached and the optimization hasn't converged yet.\n",
      "  % self.max_iter, ConvergenceWarning)\n",
      "/Users/gianlucalepore/opt/miniconda3/lib/python3.7/site-packages/sklearn/neural_network/_multilayer_perceptron.py:571: ConvergenceWarning: Stochastic Optimizer: Maximum iterations (200) reached and the optimization hasn't converged yet.\n",
      "  % self.max_iter, ConvergenceWarning)\n",
      "/Users/gianlucalepore/opt/miniconda3/lib/python3.7/site-packages/sklearn/neural_network/_multilayer_perceptron.py:571: ConvergenceWarning: Stochastic Optimizer: Maximum iterations (200) reached and the optimization hasn't converged yet.\n",
      "  % self.max_iter, ConvergenceWarning)\n",
      "/Users/gianlucalepore/opt/miniconda3/lib/python3.7/site-packages/sklearn/neural_network/_multilayer_perceptron.py:571: ConvergenceWarning: Stochastic Optimizer: Maximum iterations (200) reached and the optimization hasn't converged yet.\n",
      "  % self.max_iter, ConvergenceWarning)\n"
     ]
    },
    {
     "name": "stderr",
     "output_type": "stream",
     "text": [
      "/Users/gianlucalepore/opt/miniconda3/lib/python3.7/site-packages/sklearn/neural_network/_multilayer_perceptron.py:571: ConvergenceWarning: Stochastic Optimizer: Maximum iterations (200) reached and the optimization hasn't converged yet.\n",
      "  % self.max_iter, ConvergenceWarning)\n",
      "/Users/gianlucalepore/opt/miniconda3/lib/python3.7/site-packages/sklearn/neural_network/_multilayer_perceptron.py:571: ConvergenceWarning: Stochastic Optimizer: Maximum iterations (200) reached and the optimization hasn't converged yet.\n",
      "  % self.max_iter, ConvergenceWarning)\n",
      "/Users/gianlucalepore/opt/miniconda3/lib/python3.7/site-packages/sklearn/neural_network/_multilayer_perceptron.py:571: ConvergenceWarning: Stochastic Optimizer: Maximum iterations (200) reached and the optimization hasn't converged yet.\n",
      "  % self.max_iter, ConvergenceWarning)\n",
      "/Users/gianlucalepore/opt/miniconda3/lib/python3.7/site-packages/sklearn/neural_network/_multilayer_perceptron.py:571: ConvergenceWarning: Stochastic Optimizer: Maximum iterations (200) reached and the optimization hasn't converged yet.\n",
      "  % self.max_iter, ConvergenceWarning)\n",
      "/Users/gianlucalepore/opt/miniconda3/lib/python3.7/site-packages/sklearn/neural_network/_multilayer_perceptron.py:571: ConvergenceWarning: Stochastic Optimizer: Maximum iterations (200) reached and the optimization hasn't converged yet.\n",
      "  % self.max_iter, ConvergenceWarning)\n",
      "/Users/gianlucalepore/opt/miniconda3/lib/python3.7/site-packages/sklearn/neural_network/_multilayer_perceptron.py:571: ConvergenceWarning: Stochastic Optimizer: Maximum iterations (200) reached and the optimization hasn't converged yet.\n",
      "  % self.max_iter, ConvergenceWarning)\n",
      "/Users/gianlucalepore/opt/miniconda3/lib/python3.7/site-packages/sklearn/neural_network/_multilayer_perceptron.py:571: ConvergenceWarning: Stochastic Optimizer: Maximum iterations (200) reached and the optimization hasn't converged yet.\n",
      "  % self.max_iter, ConvergenceWarning)\n",
      "/Users/gianlucalepore/opt/miniconda3/lib/python3.7/site-packages/sklearn/neural_network/_multilayer_perceptron.py:571: ConvergenceWarning: Stochastic Optimizer: Maximum iterations (200) reached and the optimization hasn't converged yet.\n",
      "  % self.max_iter, ConvergenceWarning)\n"
     ]
    },
    {
     "name": "stdout",
     "output_type": "stream",
     "text": [
      "Numbers of mislabeled instances out of a total 50 test instances : 7\n"
     ]
    },
    {
     "name": "stderr",
     "output_type": "stream",
     "text": [
      "/Users/gianlucalepore/opt/miniconda3/lib/python3.7/site-packages/sklearn/neural_network/_multilayer_perceptron.py:571: ConvergenceWarning: Stochastic Optimizer: Maximum iterations (200) reached and the optimization hasn't converged yet.\n",
      "  % self.max_iter, ConvergenceWarning)\n"
     ]
    }
   ],
   "source": [
    "param_mlp={\n",
    "    \"activation\":[\"identity\",\"logistic\",\"tanh\",\"relu\"],\n",
    "    \"solver\":[\"adam\",\"sgd\"],\n",
    "    \"hidden_layer_sizes\":[(30,50),(10,10,10)]\n",
    "}\n",
    "\n",
    "clf_mlp_base = MLPClassifier()\n",
    "\n",
    "grid_mlp = GridSearchCV(clf_mlp_base,param_grid=param_mlp)\n",
    "\n",
    "grid_mlp.fit(X_train,y_train)\n",
    "\n",
    "#Creates new model with best obtained hyper parameters \n",
    "clf_mlp_grid = MLPClassifier(activation=grid_mlp.best_params_['activation'], \n",
    "                                solver=grid_mlp.best_params_['solver'],\n",
    "                               hidden_layer_sizes=grid_mlp.best_params_['hidden_layer_sizes'])\n",
    "\n",
    "y_pred_mlp_grid = clf_mlp_grid.fit(X_train, y_train).predict(X_test)\n",
    "\n",
    "print(\"Numbers of mislabeled instances out of a total %d test instances : %d\" % (X_test.shape[0], (y_test != y_pred_mlp_grid).sum()))\n",
    "\n",
    "\n",
    "\n"
   ]
  },
  {
   "cell_type": "markdown",
   "id": "e9820648",
   "metadata": {},
   "source": [
    "**For each of the 6 classifier above, append the following information in a file called drugs-performance.txt:**"
   ]
  },
  {
   "cell_type": "markdown",
   "id": "52ca7b27",
   "metadata": {},
   "source": [
    "**NB: Gaussian Naive Bayes**"
   ]
  },
  {
   "cell_type": "markdown",
   "id": "24bc4ded",
   "metadata": {},
   "source": [
    "**a) Clear seperator and a string clearly describing the model**"
   ]
  },
  {
   "cell_type": "code",
   "execution_count": 11,
   "id": "b8ad9a63",
   "metadata": {},
   "outputs": [],
   "source": [
    "# Create files to be appended to\n",
    "file_performance = open(\"../output/drug-performance.txt\",\"a\")\n",
    "file_discussion = open(\"../output/drug-discussion.txt\",\"a\")\n",
    "\n",
    "# Clear contents\n",
    "file_performance.truncate(0)\n",
    "file_discussion.truncate(0)\n",
    "\n",
    "# Seperator\n",
    "def write_seperator_to_file():\n",
    "    file_performance.write(\"\\n---------------------------------------------------------------------\\n\")\n",
    "\n",
    "# Writes model's name\n",
    "def write_model_name_to_file(model_name):\n",
    "    \n",
    "    file_performance.write(\"\\n (a) **** {model_name} ****\\n\\n\".format(model_name=model_name))\n",
    "    file_performance.write(\"\\n\")\n",
    "    \n",
    "write_seperator_to_file()\n",
    "write_model_name_to_file(\"Gaussian Naive Bayes\")\n"
   ]
  },
  {
   "cell_type": "markdown",
   "id": "eced76db",
   "metadata": {},
   "source": [
    "**b) Confusion Matrix**"
   ]
  },
  {
   "cell_type": "code",
   "execution_count": 12,
   "id": "e4d90843",
   "metadata": {},
   "outputs": [
    {
     "name": "stdout",
     "output_type": "stream",
     "text": [
      "Confusion Matrix:\n",
      " [[ 6  0  0  0  0]\n",
      " [ 0  6  0  0  0]\n",
      " [ 0  0  4  0  0]\n",
      " [ 0  0  0 13  0]\n",
      " [ 3  0  3  0 15]]\n"
     ]
    }
   ],
   "source": [
    "from sklearn.metrics import confusion_matrix\n",
    "\n",
    "cf_matrix_gnb = confusion_matrix(y_test,y_pred_gnb)\n",
    "\n",
    "def print_confusion_matrix(cf_matrix):\n",
    "    print('Confusion Matrix:\\n {cf_matrix}'.format(cf_matrix=cf_matrix))\n",
    "    \n",
    "def write_confusion_matrix_to_file(cf_matrix):\n",
    "    file_performance.write(\"(b) Confusion Matrix\" + \"\\n\\n\")\n",
    "    np.savetxt(file_performance, X=cf_matrix.astype(int), fmt ='%i\\t')\n",
    "    file_performance.write(\"\\n\")\n",
    "    \n",
    "print_confusion_matrix(cf_matrix_gnb)\n",
    "write_confusion_matrix_to_file(cf_matrix_gnb)\n"
   ]
  },
  {
   "cell_type": "markdown",
   "id": "172fadcd",
   "metadata": {},
   "source": [
    "**c) Precision, Recall and F1-measure**"
   ]
  },
  {
   "cell_type": "code",
   "execution_count": 13,
   "id": "c13c55d3",
   "metadata": {},
   "outputs": [
    {
     "name": "stdout",
     "output_type": "stream",
     "text": [
      "              precision    recall  f1-score   support\n",
      "\n",
      "       drugA       0.67      1.00      0.80         6\n",
      "       drugB       1.00      1.00      1.00         6\n",
      "       drugC       0.57      1.00      0.73         4\n",
      "       drugX       1.00      1.00      1.00        13\n",
      "       drugY       1.00      0.71      0.83        21\n",
      "\n",
      "    accuracy                           0.88        50\n",
      "   macro avg       0.85      0.94      0.87        50\n",
      "weighted avg       0.93      0.88      0.88        50\n",
      "\n"
     ]
    }
   ],
   "source": [
    "from sklearn import metrics\n",
    "\n",
    "def print_classification_report(y_test, y_predicted):\n",
    "    report = metrics.classification_report(y_test, y_predicted)\n",
    "    print(report)\n",
    "    \n",
    "def write_classification_report_to_file(y_test, y_predicted):\n",
    "    report = metrics.classification_report(y_test, y_predicted)\n",
    "    file_performance.write(\"(c) Classification Report\\n\\n\" + report)\n",
    "    file_performance.write(\"\\n\")\n",
    "\n",
    "#print(y_test)\n",
    "#print(y_pred_gnb)\n",
    "    \n",
    "print_classification_report(y_test, y_pred_gnb)\n",
    "write_classification_report_to_file(y_test, y_pred_gnb)"
   ]
  },
  {
   "cell_type": "markdown",
   "id": "314cac9c",
   "metadata": {},
   "source": [
    "**d) Accuracy, Macro-average F1 and weighted-average F1**"
   ]
  },
  {
   "cell_type": "code",
   "execution_count": null,
   "id": "c921c5a9",
   "metadata": {},
   "outputs": [],
   "source": [
    "from sklearn.metrics import accuracy_score, f1_score\n",
    "\n",
    "def print_scores(y_test,y_predicted):\n",
    "    print(\"Accuracy Score: \", accuracy_score(y_test, y_predicted))\n",
    "    print(\"Macro-Average F1: \", f1_score(y_test, y_predicted, average=\"macro\"))\n",
    "    print(\"Weighted-Average F1: \", f1_score(y_test, y_predicted, average=\"weighted\"))\n",
    "    \n",
    "def write_scores_to_file(y_test,y_predicted):\n",
    "    file_performance.write(\"(d) Accuracy, Macro-Average F1 and Weighted-Average F1\\n\\n\")\n",
    "    file_performance.write(\"Accuracy Score: \" + str(accuracy_score(y_test, y_predicted)) + \"\\n\")\n",
    "    file_performance.write(\"Macro-Average F1: \" + str(f1_score(y_test, y_predicted, average=\"macro\")) + \"\\n\")\n",
    "    file_performance.write(\"Weighted-Average F1: \" + str(f1_score(y_test, y_predicted, average=\"weighted\")) + \"\\n\")\n",
    "    file_performance.write(\"\\n\")\n",
    "    \n",
    "print_scores(y_test, y_pred_gnb)\n",
    "write_scores_to_file(y_test,y_pred_gnb)"
   ]
  },
  {
   "cell_type": "markdown",
   "id": "7bd9bd75",
   "metadata": {},
   "source": [
    "**Base-DT: Decision Tree**"
   ]
  },
  {
   "cell_type": "code",
   "execution_count": 14,
   "id": "0fbe333a",
   "metadata": {},
   "outputs": [],
   "source": [
    "file_performance.close()\n",
    "file_discussion.close()"
   ]
  }
 ],
 "metadata": {
  "kernelspec": {
   "display_name": "Python 3 (ipykernel)",
   "language": "python",
   "name": "python3"
  },
  "language_info": {
   "codemirror_mode": {
    "name": "ipython",
    "version": 3
   },
   "file_extension": ".py",
   "mimetype": "text/x-python",
   "name": "python",
   "nbconvert_exporter": "python",
   "pygments_lexer": "ipython3",
   "version": "3.7.10"
  }
 },
 "nbformat": 4,
 "nbformat_minor": 5
}
