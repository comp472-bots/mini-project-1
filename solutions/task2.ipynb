{
 "cells": [
  {
   "cell_type": "markdown",
   "id": "3ef3fa47",
   "metadata": {},
   "source": [
    "## Task 2: Drug Classification"
   ]
  },
  {
   "cell_type": "markdown",
   "id": "5d7be999",
   "metadata": {},
   "source": [
    "Download the BBC dataset provided on Moodle. The dataset, created by [Greene and Cunningham, 2006], is a collection of 2225 documents from the BBC news website already categorized into 5 classes: business, entertainment, politics, sport, and tech.\""
   ]
  },
  {
   "cell_type": "markdown",
   "id": "1b128cc4",
   "metadata": {},
   "source": [
    "**2. Load the dataset in Python**"
   ]
  },
  {
   "cell_type": "code",
   "execution_count": 1,
   "id": "66451815",
   "metadata": {},
   "outputs": [
    {
     "data": {
      "text/html": [
       "<div>\n",
       "<style scoped>\n",
       "    .dataframe tbody tr th:only-of-type {\n",
       "        vertical-align: middle;\n",
       "    }\n",
       "\n",
       "    .dataframe tbody tr th {\n",
       "        vertical-align: top;\n",
       "    }\n",
       "\n",
       "    .dataframe thead th {\n",
       "        text-align: right;\n",
       "    }\n",
       "</style>\n",
       "<table border=\"1\" class=\"dataframe\">\n",
       "  <thead>\n",
       "    <tr style=\"text-align: right;\">\n",
       "      <th></th>\n",
       "      <th>Age</th>\n",
       "      <th>Sex</th>\n",
       "      <th>BP</th>\n",
       "      <th>Cholesterol</th>\n",
       "      <th>Na_to_K</th>\n",
       "      <th>Drug</th>\n",
       "    </tr>\n",
       "  </thead>\n",
       "  <tbody>\n",
       "    <tr>\n",
       "      <th>0</th>\n",
       "      <td>23</td>\n",
       "      <td>F</td>\n",
       "      <td>HIGH</td>\n",
       "      <td>HIGH</td>\n",
       "      <td>25.355</td>\n",
       "      <td>drugY</td>\n",
       "    </tr>\n",
       "    <tr>\n",
       "      <th>1</th>\n",
       "      <td>47</td>\n",
       "      <td>M</td>\n",
       "      <td>LOW</td>\n",
       "      <td>HIGH</td>\n",
       "      <td>13.093</td>\n",
       "      <td>drugC</td>\n",
       "    </tr>\n",
       "    <tr>\n",
       "      <th>2</th>\n",
       "      <td>47</td>\n",
       "      <td>M</td>\n",
       "      <td>LOW</td>\n",
       "      <td>HIGH</td>\n",
       "      <td>10.114</td>\n",
       "      <td>drugC</td>\n",
       "    </tr>\n",
       "    <tr>\n",
       "      <th>3</th>\n",
       "      <td>28</td>\n",
       "      <td>F</td>\n",
       "      <td>NORMAL</td>\n",
       "      <td>HIGH</td>\n",
       "      <td>7.798</td>\n",
       "      <td>drugX</td>\n",
       "    </tr>\n",
       "    <tr>\n",
       "      <th>4</th>\n",
       "      <td>61</td>\n",
       "      <td>F</td>\n",
       "      <td>LOW</td>\n",
       "      <td>HIGH</td>\n",
       "      <td>18.043</td>\n",
       "      <td>drugY</td>\n",
       "    </tr>\n",
       "  </tbody>\n",
       "</table>\n",
       "</div>"
      ],
      "text/plain": [
       "   Age Sex      BP Cholesterol  Na_to_K   Drug\n",
       "0   23   F    HIGH        HIGH   25.355  drugY\n",
       "1   47   M     LOW        HIGH   13.093  drugC\n",
       "2   47   M     LOW        HIGH   10.114  drugC\n",
       "3   28   F  NORMAL        HIGH    7.798  drugX\n",
       "4   61   F     LOW        HIGH   18.043  drugY"
      ]
     },
     "execution_count": 1,
     "metadata": {},
     "output_type": "execute_result"
    }
   ],
   "source": [
    "import pandas as pd\n",
    "data_df = pd.read_csv(\"../data/drug200.csv\")\n",
    "data_df.head()"
   ]
  },
  {
   "cell_type": "markdown",
   "id": "069121be",
   "metadata": {},
   "source": [
    "**3. Plot the distribution of the instances in each class and store the graphic in a file called drug-distribution.pdf. You can use matplotlib.pyplot. This pre-analysis will allow you to determine if the classes are balanced, and which metric is more appropriate to use to evaluate the performance of your classifier.**"
   ]
  },
  {
   "cell_type": "code",
   "execution_count": 2,
   "id": "e5b76192",
   "metadata": {},
   "outputs": [
    {
     "data": {
      "image/png": "[encoded data removed]",
      "text/plain": [
       "<Figure size 432x288 with 1 Axes>"
      ]
     },
     "metadata": {
      "needs_background": "light"
     },
     "output_type": "display_data"
    }
   ],
   "source": [
    "import numpy as np\n",
    "import matplotlib.pyplot as plt\n",
    "\n",
    "#drug_data = data_df.to_numpy()\n",
    "\n",
    "drug_dict = dict()\n",
    "\n",
    "drug_dict['drugA'] = len(data_df.loc[data_df['Drug']== 'drugA'])\n",
    "drug_dict['drugB'] = len(data_df.loc[data_df['Drug']== 'drugB'])\n",
    "drug_dict['drugC'] = len(data_df.loc[data_df['Drug']== 'drugC'])\n",
    "drug_dict['drugX'] = len(data_df.loc[data_df['Drug']== 'drugX'])\n",
    "drug_dict['drugY'] = len(data_df.loc[data_df['Drug']== 'drugY'])\n",
    "\n",
    "classes = list(drug_dict.keys())\n",
    "instances = list(drug_dict.values())\n",
    "\n",
    "plt.bar(classes, instances, color = 'red', width = 0.6)\n",
    "\n",
    "plt.xlabel(\"Drug Classes\")\n",
    "plt.ylabel(\"No. of Instances\")\n",
    "plt.title(\"Distribution of Instances in Each Class\")\n",
    "plt.savefig(\"../output/drug-distribution.pdf\") \n",
    "plt.show()\n",
    "\n",
    "\n",
    "\n"
   ]
  },
  {
   "cell_type": "markdown",
   "id": "1cf7801d",
   "metadata": {},
   "source": [
    "**4. Convert all ordinal and nominal features in numerical format. Make sure that your converted format respects the ordering of ordinal features, and does not introduce any ordering for nominal features. You may want to take a look at pandas.get dummies and pandas.Categorical to do this.**"
   ]
  },
  {
   "cell_type": "code",
   "execution_count": 3,
   "id": "7a2ed92d",
   "metadata": {},
   "outputs": [
    {
     "data": {
      "text/html": [
       "<div>\n",
       "<style scoped>\n",
       "    .dataframe tbody tr th:only-of-type {\n",
       "        vertical-align: middle;\n",
       "    }\n",
       "\n",
       "    .dataframe tbody tr th {\n",
       "        vertical-align: top;\n",
       "    }\n",
       "\n",
       "    .dataframe thead th {\n",
       "        text-align: right;\n",
       "    }\n",
       "</style>\n",
       "<table border=\"1\" class=\"dataframe\">\n",
       "  <thead>\n",
       "    <tr style=\"text-align: right;\">\n",
       "      <th></th>\n",
       "      <th>Age</th>\n",
       "      <th>BP</th>\n",
       "      <th>Cholesterol</th>\n",
       "      <th>Na_to_K</th>\n",
       "      <th>Drug</th>\n",
       "      <th>Sex_F</th>\n",
       "      <th>Sex_M</th>\n",
       "    </tr>\n",
       "  </thead>\n",
       "  <tbody>\n",
       "    <tr>\n",
       "      <th>0</th>\n",
       "      <td>23</td>\n",
       "      <td>2</td>\n",
       "      <td>1</td>\n",
       "      <td>25.355</td>\n",
       "      <td>drugY</td>\n",
       "      <td>1</td>\n",
       "      <td>0</td>\n",
       "    </tr>\n",
       "    <tr>\n",
       "      <th>1</th>\n",
       "      <td>47</td>\n",
       "      <td>0</td>\n",
       "      <td>1</td>\n",
       "      <td>13.093</td>\n",
       "      <td>drugC</td>\n",
       "      <td>0</td>\n",
       "      <td>1</td>\n",
       "    </tr>\n",
       "    <tr>\n",
       "      <th>2</th>\n",
       "      <td>47</td>\n",
       "      <td>0</td>\n",
       "      <td>1</td>\n",
       "      <td>10.114</td>\n",
       "      <td>drugC</td>\n",
       "      <td>0</td>\n",
       "      <td>1</td>\n",
       "    </tr>\n",
       "    <tr>\n",
       "      <th>3</th>\n",
       "      <td>28</td>\n",
       "      <td>1</td>\n",
       "      <td>1</td>\n",
       "      <td>7.798</td>\n",
       "      <td>drugX</td>\n",
       "      <td>1</td>\n",
       "      <td>0</td>\n",
       "    </tr>\n",
       "    <tr>\n",
       "      <th>4</th>\n",
       "      <td>61</td>\n",
       "      <td>0</td>\n",
       "      <td>1</td>\n",
       "      <td>18.043</td>\n",
       "      <td>drugY</td>\n",
       "      <td>1</td>\n",
       "      <td>0</td>\n",
       "    </tr>\n",
       "  </tbody>\n",
       "</table>\n",
       "</div>"
      ],
      "text/plain": [
       "   Age  BP  Cholesterol  Na_to_K   Drug  Sex_F  Sex_M\n",
       "0   23   2            1   25.355  drugY      1      0\n",
       "1   47   0            1   13.093  drugC      0      1\n",
       "2   47   0            1   10.114  drugC      0      1\n",
       "3   28   1            1    7.798  drugX      1      0\n",
       "4   61   0            1   18.043  drugY      1      0"
      ]
     },
     "execution_count": 3,
     "metadata": {},
     "output_type": "execute_result"
    }
   ],
   "source": [
    "#Converts nominal column \"Sex\" to numerical format using pandas.get_dummies function\n",
    "data_df = pd.get_dummies(data_df, columns=['Sex'])\n",
    "\n",
    "#Converts ordinal column \"BP\" to numerical format using pandas.Categorical function\n",
    "data_df.BP = pd.Categorical(data_df.BP,['LOW','NORMAL','HIGH'],ordered=True)\n",
    "data_df.BP = data_df.BP.cat.codes\n",
    "\n",
    "#Converts ordinal column \"Cholestrol\" to numerical format using pandas.Categorical function\n",
    "data_df.Cholesterol = pd.Categorical(data_df.Cholesterol,['NORMAL','HIGH'],ordered=True)\n",
    "data_df.Cholesterol = data_df.Cholesterol.cat.codes\n",
    "\n",
    "data_df.head()\n"
   ]
  },
  {
   "cell_type": "markdown",
   "id": "8bca563c",
   "metadata": {},
   "source": [
    "**5. Split the dataset using train test split using the default parameter values.**"
   ]
  },
  {
   "cell_type": "code",
   "execution_count": 4,
   "id": "374c86eb",
   "metadata": {},
   "outputs": [],
   "source": [
    "from sklearn.model_selection import train_test_split\n",
    "\n",
    "#Seperates ouput (classes) column from features columns\n",
    "df_output = data_df.Drug \n",
    "df_samples = data_df.drop(columns=['Drug'])\n",
    "\n",
    "X_train, X_test, y_train, y_test = train_test_split(df_samples, df_output)\n"
   ]
  },
  {
   "cell_type": "markdown",
   "id": "b3e7a393",
   "metadata": {},
   "source": [
    "**6. Run 6 different classifiers**"
   ]
  },
  {
   "cell_type": "markdown",
   "id": "88675b1c",
   "metadata": {},
   "source": [
    "**a) NB: a Gaussian Naive Bayes Classifier (naive bayes.GaussianNB) with the default parameters.**"
   ]
  },
  {
   "cell_type": "code",
   "execution_count": 5,
   "id": "20660188",
   "metadata": {},
   "outputs": [
    {
     "name": "stdout",
     "output_type": "stream",
     "text": [
      "Number of mislabeled instances out of a total 50 test instances : 6\n"
     ]
    }
   ],
   "source": [
    "from sklearn.naive_bayes import GaussianNB\n",
    "\n",
    "\n",
    "gnb = GaussianNB()\n",
    "y_pred_gnb = gnb.fit(X_train, y_train).predict(X_test)\n",
    "#y_pred_gnb\n",
    "\n",
    "print(\"Number of mislabeled instances out of a total %d test instances : %d\" % (X_test.shape[0], (y_test != y_pred_gnb).sum()))\n"
   ]
  },
  {
   "cell_type": "markdown",
   "id": "b802af3c",
   "metadata": {},
   "source": [
    "**b) Base-DT: a Decision Tree (tree.DecisionTreeClassifier) with the default parameters.**"
   ]
  },
  {
   "cell_type": "code",
   "execution_count": 6,
   "id": "16849f8b",
   "metadata": {},
   "outputs": [
    {
     "name": "stdout",
     "output_type": "stream",
     "text": [
      "Number of mislabeled instances out of a total 50 test instances : 0\n"
     ]
    }
   ],
   "source": [
    "from sklearn.tree import DecisionTreeClassifier\n",
    "\n",
    "clf = DecisionTreeClassifier()\n",
    "y_pred_tree = clf.fit(X_train, y_train).predict(X_test)\n",
    "\n",
    "print(\"Number of mislabeled instances out of a total %d test instances : %d\" % (X_test.shape[0], (y_test != y_pred_tree).sum()))\n",
    "\n"
   ]
  },
  {
   "cell_type": "markdown",
   "id": "fe83e8e8",
   "metadata": {},
   "source": [
    "**c) Top-DT: A Better Performing Decision Tree found using GridSearchCV**"
   ]
  },
  {
   "cell_type": "code",
   "execution_count": 7,
   "id": "fc98e17f",
   "metadata": {},
   "outputs": [
    {
     "name": "stdout",
     "output_type": "stream",
     "text": [
      "Best hyper-parameter values determined by GridSearch:{'criterion': 'gini', 'max_depth': 5, 'min_samples_split': 2}\n",
      "\n",
      "Number of mislabeled instances out of a total 50 test instances : 0\n"
     ]
    }
   ],
   "source": [
    "from sklearn.model_selection import GridSearchCV\n",
    "\n",
    "\n",
    "param_dist={\n",
    "    \"criterion\":[\"gini\",\"entropy\"],\n",
    "    \"max_depth\":[5,10],\n",
    "    \"min_samples_split\":[2,4,6]\n",
    "}\n",
    "\n",
    "grid_tree = GridSearchCV(clf,param_grid=param_dist)\n",
    "\n",
    "grid_tree.fit(X_train,y_train)\n",
    "\n",
    "#Creates new model with best obtained hyper parameters \n",
    "clf_grid = DecisionTreeClassifier(criterion=grid_tree.best_params_['criterion'], \n",
    "                                  max_depth=grid_tree.best_params_['max_depth'],\n",
    "                                 min_samples_split=grid_tree.best_params_['min_samples_split'])\n",
    "\n",
    "\n",
    "y_pred_tree_grid = clf_grid.fit(X_train, y_train).predict(X_test)\n",
    "\n",
    "print(\"Best hyper-parameter values determined by GridSearch:\" + str(grid_tree.best_params_) + \"\\n\")\n",
    "print(\"Number of mislabeled instances out of a total %d test instances : %d\" % (X_test.shape[0], (y_test != y_pred_tree_grid).sum()))\n",
    "\n"
   ]
  },
  {
   "cell_type": "markdown",
   "id": "3a8e5b18",
   "metadata": {},
   "source": [
    "**d) PER: A Perceptron (linear model.Perceptron), with default parameter values.**"
   ]
  },
  {
   "cell_type": "code",
   "execution_count": 8,
   "id": "68891b1f",
   "metadata": {},
   "outputs": [
    {
     "name": "stdout",
     "output_type": "stream",
     "text": [
      "Number of mislabeled instances out of a total 50 test instances : 31\n"
     ]
    }
   ],
   "source": [
    "from sklearn.linear_model import Perceptron\n",
    "\n",
    "clf_perc = Perceptron()\n",
    "\n",
    "y_pred_perc = clf_perc.fit(X_train, y_train).predict(X_test)\n",
    "\n",
    "print(\"Number of mislabeled instances out of a total %d test instances : %d\" % (X_test.shape[0], (y_test != y_pred_perc).sum()))\n"
   ]
  },
  {
   "cell_type": "markdown",
   "id": "459effa2",
   "metadata": {},
   "source": [
    "**e) Base-MLP: A Multi-Layered Perceptron (neural network.MLPClassifier) with 1 hidden layer of 100 neurons, sigmoid/logistic as activation function, stochastic gradient descent, and default values for the rest of the parameters.**"
   ]
  },
  {
   "cell_type": "code",
   "execution_count": 9,
   "id": "be4e85d6",
   "metadata": {},
   "outputs": [
    {
     "name": "stdout",
     "output_type": "stream",
     "text": [
      "Number of mislabeled instances out of a total 50 test instances : 24\n"
     ]
    },
    {
     "name": "stderr",
     "output_type": "stream",
     "text": [
      "/Users/gianlucalepore/opt/miniconda3/lib/python3.7/site-packages/sklearn/neural_network/_multilayer_perceptron.py:571: ConvergenceWarning: Stochastic Optimizer: Maximum iterations (200) reached and the optimization hasn't converged yet.\n",
      "  % self.max_iter, ConvergenceWarning)\n"
     ]
    }
   ],
   "source": [
    "from sklearn.neural_network import MLPClassifier\n",
    "\n",
    "clf_mlp = MLPClassifier(activation = 'logistic', solver = 'sgd')\n",
    "\n",
    "y_pred_mlp = clf_mlp.fit(X_train, y_train).predict(X_test)\n",
    "\n",
    "print(\"Number of mislabeled instances out of a total %d test instances : %d\" % (X_test.shape[0], (y_test != y_pred_mlp).sum()))\n"
   ]
  },
  {
   "cell_type": "markdown",
   "id": "4cf0a45a",
   "metadata": {},
   "source": [
    "**f) Top-MLP: A better performing Multi-Layered Perceptron found using grid search.**"
   ]
  },
  {
   "cell_type": "code",
   "execution_count": 10,
   "id": "fdd59d7f",
   "metadata": {},
   "outputs": [
    {
     "name": "stderr",
     "output_type": "stream",
     "text": [
      "/Users/gianlucalepore/opt/miniconda3/lib/python3.7/site-packages/sklearn/neural_network/_multilayer_perceptron.py:571: ConvergenceWarning: Stochastic Optimizer: Maximum iterations (200) reached and the optimization hasn't converged yet.\n",
      "  % self.max_iter, ConvergenceWarning)\n",
      "/Users/gianlucalepore/opt/miniconda3/lib/python3.7/site-packages/sklearn/neural_network/_multilayer_perceptron.py:571: ConvergenceWarning: Stochastic Optimizer: Maximum iterations (200) reached and the optimization hasn't converged yet.\n",
      "  % self.max_iter, ConvergenceWarning)\n",
      "/Users/gianlucalepore/opt/miniconda3/lib/python3.7/site-packages/sklearn/neural_network/_multilayer_perceptron.py:571: ConvergenceWarning: Stochastic Optimizer: Maximum iterations (200) reached and the optimization hasn't converged yet.\n",
      "  % self.max_iter, ConvergenceWarning)\n",
      "/Users/gianlucalepore/opt/miniconda3/lib/python3.7/site-packages/sklearn/neural_network/_multilayer_perceptron.py:571: ConvergenceWarning: Stochastic Optimizer: Maximum iterations (200) reached and the optimization hasn't converged yet.\n",
      "  % self.max_iter, ConvergenceWarning)\n",
      "/Users/gianlucalepore/opt/miniconda3/lib/python3.7/site-packages/sklearn/neural_network/_multilayer_perceptron.py:571: ConvergenceWarning: Stochastic Optimizer: Maximum iterations (200) reached and the optimization hasn't converged yet.\n",
      "  % self.max_iter, ConvergenceWarning)\n",
      "/Users/gianlucalepore/opt/miniconda3/lib/python3.7/site-packages/sklearn/neural_network/_multilayer_perceptron.py:571: ConvergenceWarning: Stochastic Optimizer: Maximum iterations (200) reached and the optimization hasn't converged yet.\n",
      "  % self.max_iter, ConvergenceWarning)\n",
      "/Users/gianlucalepore/opt/miniconda3/lib/python3.7/site-packages/sklearn/neural_network/_multilayer_perceptron.py:571: ConvergenceWarning: Stochastic Optimizer: Maximum iterations (200) reached and the optimization hasn't converged yet.\n",
      "  % self.max_iter, ConvergenceWarning)\n",
      "/Users/gianlucalepore/opt/miniconda3/lib/python3.7/site-packages/sklearn/neural_network/_multilayer_perceptron.py:571: ConvergenceWarning: Stochastic Optimizer: Maximum iterations (200) reached and the optimization hasn't converged yet.\n",
      "  % self.max_iter, ConvergenceWarning)\n",
      "/Users/gianlucalepore/opt/miniconda3/lib/python3.7/site-packages/sklearn/neural_network/_multilayer_perceptron.py:571: ConvergenceWarning: Stochastic Optimizer: Maximum iterations (200) reached and the optimization hasn't converged yet.\n",
      "  % self.max_iter, ConvergenceWarning)\n",
      "/Users/gianlucalepore/opt/miniconda3/lib/python3.7/site-packages/sklearn/neural_network/_multilayer_perceptron.py:571: ConvergenceWarning: Stochastic Optimizer: Maximum iterations (200) reached and the optimization hasn't converged yet.\n",
      "  % self.max_iter, ConvergenceWarning)\n",
      "/Users/gianlucalepore/opt/miniconda3/lib/python3.7/site-packages/sklearn/neural_network/_multilayer_perceptron.py:571: ConvergenceWarning: Stochastic Optimizer: Maximum iterations (200) reached and the optimization hasn't converged yet.\n",
      "  % self.max_iter, ConvergenceWarning)\n",
      "/Users/gianlucalepore/opt/miniconda3/lib/python3.7/site-packages/sklearn/neural_network/_multilayer_perceptron.py:571: ConvergenceWarning: Stochastic Optimizer: Maximum iterations (200) reached and the optimization hasn't converged yet.\n",
      "  % self.max_iter, ConvergenceWarning)\n",
      "/Users/gianlucalepore/opt/miniconda3/lib/python3.7/site-packages/sklearn/neural_network/_multilayer_perceptron.py:571: ConvergenceWarning: Stochastic Optimizer: Maximum iterations (200) reached and the optimization hasn't converged yet.\n",
      "  % self.max_iter, ConvergenceWarning)\n",
      "/Users/gianlucalepore/opt/miniconda3/lib/python3.7/site-packages/sklearn/neural_network/_multilayer_perceptron.py:571: ConvergenceWarning: Stochastic Optimizer: Maximum iterations (200) reached and the optimization hasn't converged yet.\n",
      "  % self.max_iter, ConvergenceWarning)\n",
      "/Users/gianlucalepore/opt/miniconda3/lib/python3.7/site-packages/sklearn/neural_network/_multilayer_perceptron.py:571: ConvergenceWarning: Stochastic Optimizer: Maximum iterations (200) reached and the optimization hasn't converged yet.\n",
      "  % self.max_iter, ConvergenceWarning)\n",
      "/Users/gianlucalepore/opt/miniconda3/lib/python3.7/site-packages/sklearn/neural_network/_multilayer_perceptron.py:571: ConvergenceWarning: Stochastic Optimizer: Maximum iterations (200) reached and the optimization hasn't converged yet.\n",
      "  % self.max_iter, ConvergenceWarning)\n",
      "/Users/gianlucalepore/opt/miniconda3/lib/python3.7/site-packages/sklearn/neural_network/_multilayer_perceptron.py:571: ConvergenceWarning: Stochastic Optimizer: Maximum iterations (200) reached and the optimization hasn't converged yet.\n",
      "  % self.max_iter, ConvergenceWarning)\n",
      "/Users/gianlucalepore/opt/miniconda3/lib/python3.7/site-packages/sklearn/neural_network/_multilayer_perceptron.py:571: ConvergenceWarning: Stochastic Optimizer: Maximum iterations (200) reached and the optimization hasn't converged yet.\n",
      "  % self.max_iter, ConvergenceWarning)\n",
      "/Users/gianlucalepore/opt/miniconda3/lib/python3.7/site-packages/sklearn/neural_network/_multilayer_perceptron.py:571: ConvergenceWarning: Stochastic Optimizer: Maximum iterations (200) reached and the optimization hasn't converged yet.\n",
      "  % self.max_iter, ConvergenceWarning)\n",
      "/Users/gianlucalepore/opt/miniconda3/lib/python3.7/site-packages/sklearn/neural_network/_multilayer_perceptron.py:571: ConvergenceWarning: Stochastic Optimizer: Maximum iterations (200) reached and the optimization hasn't converged yet.\n",
      "  % self.max_iter, ConvergenceWarning)\n",
      "/Users/gianlucalepore/opt/miniconda3/lib/python3.7/site-packages/sklearn/neural_network/_multilayer_perceptron.py:571: ConvergenceWarning: Stochastic Optimizer: Maximum iterations (200) reached and the optimization hasn't converged yet.\n",
      "  % self.max_iter, ConvergenceWarning)\n",
      "/Users/gianlucalepore/opt/miniconda3/lib/python3.7/site-packages/sklearn/neural_network/_multilayer_perceptron.py:571: ConvergenceWarning: Stochastic Optimizer: Maximum iterations (200) reached and the optimization hasn't converged yet.\n",
      "  % self.max_iter, ConvergenceWarning)\n",
      "/Users/gianlucalepore/opt/miniconda3/lib/python3.7/site-packages/sklearn/neural_network/_multilayer_perceptron.py:571: ConvergenceWarning: Stochastic Optimizer: Maximum iterations (200) reached and the optimization hasn't converged yet.\n",
      "  % self.max_iter, ConvergenceWarning)\n",
      "/Users/gianlucalepore/opt/miniconda3/lib/python3.7/site-packages/sklearn/neural_network/_multilayer_perceptron.py:571: ConvergenceWarning: Stochastic Optimizer: Maximum iterations (200) reached and the optimization hasn't converged yet.\n",
      "  % self.max_iter, ConvergenceWarning)\n",
      "/Users/gianlucalepore/opt/miniconda3/lib/python3.7/site-packages/sklearn/neural_network/_multilayer_perceptron.py:571: ConvergenceWarning: Stochastic Optimizer: Maximum iterations (200) reached and the optimization hasn't converged yet.\n",
      "  % self.max_iter, ConvergenceWarning)\n",
      "/Users/gianlucalepore/opt/miniconda3/lib/python3.7/site-packages/sklearn/neural_network/_multilayer_perceptron.py:571: ConvergenceWarning: Stochastic Optimizer: Maximum iterations (200) reached and the optimization hasn't converged yet.\n",
      "  % self.max_iter, ConvergenceWarning)\n",
      "/Users/gianlucalepore/opt/miniconda3/lib/python3.7/site-packages/sklearn/neural_network/_multilayer_perceptron.py:571: ConvergenceWarning: Stochastic Optimizer: Maximum iterations (200) reached and the optimization hasn't converged yet.\n",
      "  % self.max_iter, ConvergenceWarning)\n",
      "/Users/gianlucalepore/opt/miniconda3/lib/python3.7/site-packages/sklearn/neural_network/_multilayer_perceptron.py:571: ConvergenceWarning: Stochastic Optimizer: Maximum iterations (200) reached and the optimization hasn't converged yet.\n",
      "  % self.max_iter, ConvergenceWarning)\n",
      "/Users/gianlucalepore/opt/miniconda3/lib/python3.7/site-packages/sklearn/neural_network/_multilayer_perceptron.py:571: ConvergenceWarning: Stochastic Optimizer: Maximum iterations (200) reached and the optimization hasn't converged yet.\n",
      "  % self.max_iter, ConvergenceWarning)\n",
      "/Users/gianlucalepore/opt/miniconda3/lib/python3.7/site-packages/sklearn/neural_network/_multilayer_perceptron.py:571: ConvergenceWarning: Stochastic Optimizer: Maximum iterations (200) reached and the optimization hasn't converged yet.\n",
      "  % self.max_iter, ConvergenceWarning)\n",
      "/Users/gianlucalepore/opt/miniconda3/lib/python3.7/site-packages/sklearn/neural_network/_multilayer_perceptron.py:571: ConvergenceWarning: Stochastic Optimizer: Maximum iterations (200) reached and the optimization hasn't converged yet.\n",
      "  % self.max_iter, ConvergenceWarning)\n"
     ]
    },
    {
     "name": "stderr",
     "output_type": "stream",
     "text": [
      "/Users/gianlucalepore/opt/miniconda3/lib/python3.7/site-packages/sklearn/neural_network/_multilayer_perceptron.py:571: ConvergenceWarning: Stochastic Optimizer: Maximum iterations (200) reached and the optimization hasn't converged yet.\n",
      "  % self.max_iter, ConvergenceWarning)\n",
      "/Users/gianlucalepore/opt/miniconda3/lib/python3.7/site-packages/sklearn/neural_network/_multilayer_perceptron.py:571: ConvergenceWarning: Stochastic Optimizer: Maximum iterations (200) reached and the optimization hasn't converged yet.\n",
      "  % self.max_iter, ConvergenceWarning)\n",
      "/Users/gianlucalepore/opt/miniconda3/lib/python3.7/site-packages/sklearn/neural_network/_multilayer_perceptron.py:571: ConvergenceWarning: Stochastic Optimizer: Maximum iterations (200) reached and the optimization hasn't converged yet.\n",
      "  % self.max_iter, ConvergenceWarning)\n",
      "/Users/gianlucalepore/opt/miniconda3/lib/python3.7/site-packages/sklearn/neural_network/_multilayer_perceptron.py:571: ConvergenceWarning: Stochastic Optimizer: Maximum iterations (200) reached and the optimization hasn't converged yet.\n",
      "  % self.max_iter, ConvergenceWarning)\n",
      "/Users/gianlucalepore/opt/miniconda3/lib/python3.7/site-packages/sklearn/neural_network/_multilayer_perceptron.py:571: ConvergenceWarning: Stochastic Optimizer: Maximum iterations (200) reached and the optimization hasn't converged yet.\n",
      "  % self.max_iter, ConvergenceWarning)\n",
      "/Users/gianlucalepore/opt/miniconda3/lib/python3.7/site-packages/sklearn/neural_network/_multilayer_perceptron.py:571: ConvergenceWarning: Stochastic Optimizer: Maximum iterations (200) reached and the optimization hasn't converged yet.\n",
      "  % self.max_iter, ConvergenceWarning)\n",
      "/Users/gianlucalepore/opt/miniconda3/lib/python3.7/site-packages/sklearn/neural_network/_multilayer_perceptron.py:571: ConvergenceWarning: Stochastic Optimizer: Maximum iterations (200) reached and the optimization hasn't converged yet.\n",
      "  % self.max_iter, ConvergenceWarning)\n",
      "/Users/gianlucalepore/opt/miniconda3/lib/python3.7/site-packages/sklearn/neural_network/_multilayer_perceptron.py:571: ConvergenceWarning: Stochastic Optimizer: Maximum iterations (200) reached and the optimization hasn't converged yet.\n",
      "  % self.max_iter, ConvergenceWarning)\n",
      "/Users/gianlucalepore/opt/miniconda3/lib/python3.7/site-packages/sklearn/neural_network/_multilayer_perceptron.py:571: ConvergenceWarning: Stochastic Optimizer: Maximum iterations (200) reached and the optimization hasn't converged yet.\n",
      "  % self.max_iter, ConvergenceWarning)\n",
      "/Users/gianlucalepore/opt/miniconda3/lib/python3.7/site-packages/sklearn/neural_network/_multilayer_perceptron.py:571: ConvergenceWarning: Stochastic Optimizer: Maximum iterations (200) reached and the optimization hasn't converged yet.\n",
      "  % self.max_iter, ConvergenceWarning)\n",
      "/Users/gianlucalepore/opt/miniconda3/lib/python3.7/site-packages/sklearn/neural_network/_multilayer_perceptron.py:571: ConvergenceWarning: Stochastic Optimizer: Maximum iterations (200) reached and the optimization hasn't converged yet.\n",
      "  % self.max_iter, ConvergenceWarning)\n",
      "/Users/gianlucalepore/opt/miniconda3/lib/python3.7/site-packages/sklearn/neural_network/_multilayer_perceptron.py:571: ConvergenceWarning: Stochastic Optimizer: Maximum iterations (200) reached and the optimization hasn't converged yet.\n",
      "  % self.max_iter, ConvergenceWarning)\n",
      "/Users/gianlucalepore/opt/miniconda3/lib/python3.7/site-packages/sklearn/neural_network/_multilayer_perceptron.py:571: ConvergenceWarning: Stochastic Optimizer: Maximum iterations (200) reached and the optimization hasn't converged yet.\n",
      "  % self.max_iter, ConvergenceWarning)\n",
      "/Users/gianlucalepore/opt/miniconda3/lib/python3.7/site-packages/sklearn/neural_network/_multilayer_perceptron.py:571: ConvergenceWarning: Stochastic Optimizer: Maximum iterations (200) reached and the optimization hasn't converged yet.\n",
      "  % self.max_iter, ConvergenceWarning)\n",
      "/Users/gianlucalepore/opt/miniconda3/lib/python3.7/site-packages/sklearn/neural_network/_multilayer_perceptron.py:571: ConvergenceWarning: Stochastic Optimizer: Maximum iterations (200) reached and the optimization hasn't converged yet.\n",
      "  % self.max_iter, ConvergenceWarning)\n",
      "/Users/gianlucalepore/opt/miniconda3/lib/python3.7/site-packages/sklearn/neural_network/_multilayer_perceptron.py:571: ConvergenceWarning: Stochastic Optimizer: Maximum iterations (200) reached and the optimization hasn't converged yet.\n",
      "  % self.max_iter, ConvergenceWarning)\n",
      "/Users/gianlucalepore/opt/miniconda3/lib/python3.7/site-packages/sklearn/neural_network/_multilayer_perceptron.py:571: ConvergenceWarning: Stochastic Optimizer: Maximum iterations (200) reached and the optimization hasn't converged yet.\n",
      "  % self.max_iter, ConvergenceWarning)\n",
      "/Users/gianlucalepore/opt/miniconda3/lib/python3.7/site-packages/sklearn/neural_network/_multilayer_perceptron.py:571: ConvergenceWarning: Stochastic Optimizer: Maximum iterations (200) reached and the optimization hasn't converged yet.\n",
      "  % self.max_iter, ConvergenceWarning)\n",
      "/Users/gianlucalepore/opt/miniconda3/lib/python3.7/site-packages/sklearn/neural_network/_multilayer_perceptron.py:571: ConvergenceWarning: Stochastic Optimizer: Maximum iterations (200) reached and the optimization hasn't converged yet.\n",
      "  % self.max_iter, ConvergenceWarning)\n",
      "/Users/gianlucalepore/opt/miniconda3/lib/python3.7/site-packages/sklearn/neural_network/_multilayer_perceptron.py:571: ConvergenceWarning: Stochastic Optimizer: Maximum iterations (200) reached and the optimization hasn't converged yet.\n",
      "  % self.max_iter, ConvergenceWarning)\n",
      "/Users/gianlucalepore/opt/miniconda3/lib/python3.7/site-packages/sklearn/neural_network/_multilayer_perceptron.py:571: ConvergenceWarning: Stochastic Optimizer: Maximum iterations (200) reached and the optimization hasn't converged yet.\n",
      "  % self.max_iter, ConvergenceWarning)\n",
      "/Users/gianlucalepore/opt/miniconda3/lib/python3.7/site-packages/sklearn/neural_network/_multilayer_perceptron.py:571: ConvergenceWarning: Stochastic Optimizer: Maximum iterations (200) reached and the optimization hasn't converged yet.\n",
      "  % self.max_iter, ConvergenceWarning)\n",
      "/Users/gianlucalepore/opt/miniconda3/lib/python3.7/site-packages/sklearn/neural_network/_multilayer_perceptron.py:571: ConvergenceWarning: Stochastic Optimizer: Maximum iterations (200) reached and the optimization hasn't converged yet.\n",
      "  % self.max_iter, ConvergenceWarning)\n",
      "/Users/gianlucalepore/opt/miniconda3/lib/python3.7/site-packages/sklearn/neural_network/_multilayer_perceptron.py:571: ConvergenceWarning: Stochastic Optimizer: Maximum iterations (200) reached and the optimization hasn't converged yet.\n",
      "  % self.max_iter, ConvergenceWarning)\n",
      "/Users/gianlucalepore/opt/miniconda3/lib/python3.7/site-packages/sklearn/neural_network/_multilayer_perceptron.py:571: ConvergenceWarning: Stochastic Optimizer: Maximum iterations (200) reached and the optimization hasn't converged yet.\n",
      "  % self.max_iter, ConvergenceWarning)\n",
      "/Users/gianlucalepore/opt/miniconda3/lib/python3.7/site-packages/sklearn/neural_network/_multilayer_perceptron.py:571: ConvergenceWarning: Stochastic Optimizer: Maximum iterations (200) reached and the optimization hasn't converged yet.\n",
      "  % self.max_iter, ConvergenceWarning)\n",
      "/Users/gianlucalepore/opt/miniconda3/lib/python3.7/site-packages/sklearn/neural_network/_multilayer_perceptron.py:571: ConvergenceWarning: Stochastic Optimizer: Maximum iterations (200) reached and the optimization hasn't converged yet.\n",
      "  % self.max_iter, ConvergenceWarning)\n",
      "/Users/gianlucalepore/opt/miniconda3/lib/python3.7/site-packages/sklearn/neural_network/_multilayer_perceptron.py:571: ConvergenceWarning: Stochastic Optimizer: Maximum iterations (200) reached and the optimization hasn't converged yet.\n",
      "  % self.max_iter, ConvergenceWarning)\n",
      "/Users/gianlucalepore/opt/miniconda3/lib/python3.7/site-packages/sklearn/neural_network/_multilayer_perceptron.py:571: ConvergenceWarning: Stochastic Optimizer: Maximum iterations (200) reached and the optimization hasn't converged yet.\n",
      "  % self.max_iter, ConvergenceWarning)\n",
      "/Users/gianlucalepore/opt/miniconda3/lib/python3.7/site-packages/sklearn/neural_network/_multilayer_perceptron.py:571: ConvergenceWarning: Stochastic Optimizer: Maximum iterations (200) reached and the optimization hasn't converged yet.\n",
      "  % self.max_iter, ConvergenceWarning)\n"
     ]
    },
    {
     "name": "stderr",
     "output_type": "stream",
     "text": [
      "/Users/gianlucalepore/opt/miniconda3/lib/python3.7/site-packages/sklearn/neural_network/_multilayer_perceptron.py:571: ConvergenceWarning: Stochastic Optimizer: Maximum iterations (200) reached and the optimization hasn't converged yet.\n",
      "  % self.max_iter, ConvergenceWarning)\n",
      "/Users/gianlucalepore/opt/miniconda3/lib/python3.7/site-packages/sklearn/neural_network/_multilayer_perceptron.py:571: ConvergenceWarning: Stochastic Optimizer: Maximum iterations (200) reached and the optimization hasn't converged yet.\n",
      "  % self.max_iter, ConvergenceWarning)\n",
      "/Users/gianlucalepore/opt/miniconda3/lib/python3.7/site-packages/sklearn/neural_network/_multilayer_perceptron.py:571: ConvergenceWarning: Stochastic Optimizer: Maximum iterations (200) reached and the optimization hasn't converged yet.\n",
      "  % self.max_iter, ConvergenceWarning)\n",
      "/Users/gianlucalepore/opt/miniconda3/lib/python3.7/site-packages/sklearn/neural_network/_multilayer_perceptron.py:571: ConvergenceWarning: Stochastic Optimizer: Maximum iterations (200) reached and the optimization hasn't converged yet.\n",
      "  % self.max_iter, ConvergenceWarning)\n",
      "/Users/gianlucalepore/opt/miniconda3/lib/python3.7/site-packages/sklearn/neural_network/_multilayer_perceptron.py:571: ConvergenceWarning: Stochastic Optimizer: Maximum iterations (200) reached and the optimization hasn't converged yet.\n",
      "  % self.max_iter, ConvergenceWarning)\n",
      "/Users/gianlucalepore/opt/miniconda3/lib/python3.7/site-packages/sklearn/neural_network/_multilayer_perceptron.py:571: ConvergenceWarning: Stochastic Optimizer: Maximum iterations (200) reached and the optimization hasn't converged yet.\n",
      "  % self.max_iter, ConvergenceWarning)\n",
      "/Users/gianlucalepore/opt/miniconda3/lib/python3.7/site-packages/sklearn/neural_network/_multilayer_perceptron.py:571: ConvergenceWarning: Stochastic Optimizer: Maximum iterations (200) reached and the optimization hasn't converged yet.\n",
      "  % self.max_iter, ConvergenceWarning)\n"
     ]
    },
    {
     "name": "stdout",
     "output_type": "stream",
     "text": [
      "Numbers of mislabeled instances out of a total 50 test instances : 11\n"
     ]
    },
    {
     "name": "stderr",
     "output_type": "stream",
     "text": [
      "/Users/gianlucalepore/opt/miniconda3/lib/python3.7/site-packages/sklearn/neural_network/_multilayer_perceptron.py:571: ConvergenceWarning: Stochastic Optimizer: Maximum iterations (200) reached and the optimization hasn't converged yet.\n",
      "  % self.max_iter, ConvergenceWarning)\n"
     ]
    }
   ],
   "source": [
    "param_mlp={\n",
    "    \"activation\":[\"identity\",\"logistic\",\"tanh\",\"relu\"],\n",
    "    \"solver\":[\"adam\",\"sgd\"],\n",
    "    \"hidden_layer_sizes\":[(30,50),(10,10,10)]\n",
    "}\n",
    "\n",
    "clf_mlp_base = MLPClassifier()\n",
    "\n",
    "grid_mlp = GridSearchCV(clf_mlp_base,param_grid=param_mlp)\n",
    "\n",
    "grid_mlp.fit(X_train,y_train)\n",
    "\n",
    "#Creates new model with best obtained hyper parameters \n",
    "clf_mlp_grid = MLPClassifier(activation=grid_mlp.best_params_['activation'], \n",
    "                                solver=grid_mlp.best_params_['solver'],\n",
    "                               hidden_layer_sizes=grid_mlp.best_params_['hidden_layer_sizes'])\n",
    "\n",
    "y_pred_mlp_grid = clf_mlp_grid.fit(X_train, y_train).predict(X_test)\n",
    "\n",
    "print(\"Numbers of mislabeled instances out of a total %d test instances : %d\" % (X_test.shape[0], (y_test != y_pred_mlp_grid).sum()))\n",
    "\n",
    "\n",
    "\n"
   ]
  },
  {
   "cell_type": "markdown",
   "id": "f5eb96d6",
   "metadata": {},
   "source": [
    "**For each of the 6 classifier above, append the following information in a file called drugs-performance.txt:**"
   ]
  },
  {
   "cell_type": "markdown",
   "id": "280b9cb6",
   "metadata": {},
   "source": [
    "**NB: Gaussian Naive Bayes**"
   ]
  },
  {
   "cell_type": "markdown",
   "id": "84182d91",
   "metadata": {},
   "source": [
    "**a) Clear seperator and a string clearly describing the model**"
   ]
  },
  {
   "cell_type": "code",
   "execution_count": 11,
   "id": "fdd1e18e",
   "metadata": {},
   "outputs": [],
   "source": [
    "# Create files to be appended to\n",
    "file_performance = open(\"../output/drug-performance.txt\",\"a\")\n",
    "file_discussion = open(\"../output/drug-discussion.txt\",\"a\")\n",
    "\n",
    "# Clear contents\n",
    "file_performance.truncate(0)\n",
    "file_discussion.truncate(0)\n",
    "\n",
    "# Seperator\n",
    "def write_seperator_to_file():\n",
    "    file_performance.write(\"\\n---------------------------------------------------------------------\\n\")\n",
    "\n",
    "# Writes model's name\n",
    "def write_model_name_to_file(model_name):\n",
    "    \n",
    "    file_performance.write(\"\\n (a) **** {model_name} ****\\n\\n\".format(model_name=model_name))\n",
    "    file_performance.write(\"\\n\")\n",
    "    \n",
    "write_seperator_to_file()\n",
    "write_model_name_to_file(\"NB: Gaussian Naive Bayes\")\n"
   ]
  },
  {
   "cell_type": "markdown",
   "id": "c05bd0cc",
   "metadata": {},
   "source": [
    "**b) Confusion Matrix**"
   ]
  },
  {
   "cell_type": "code",
   "execution_count": 12,
   "id": "49f96145",
   "metadata": {},
   "outputs": [
    {
     "name": "stdout",
     "output_type": "stream",
     "text": [
      "Confusion Matrix:\n",
      " [[ 7  0  0  0  0]\n",
      " [ 0  4  0  0  0]\n",
      " [ 0  0  4  0  0]\n",
      " [ 0  0  0 11  1]\n",
      " [ 3  0  2  0 18]]\n"
     ]
    }
   ],
   "source": [
    "from sklearn.metrics import confusion_matrix\n",
    "\n",
    "cf_matrix_gnb = confusion_matrix(y_test,y_pred_gnb)\n",
    "\n",
    "def print_confusion_matrix(cf_matrix):\n",
    "    print('Confusion Matrix:\\n {cf_matrix}'.format(cf_matrix=cf_matrix))\n",
    "    \n",
    "def write_confusion_matrix_to_file(cf_matrix):\n",
    "    file_performance.write(\"(b) Confusion Matrix\" + \"\\n\\n\")\n",
    "    np.savetxt(file_performance, X=cf_matrix.astype(int), fmt ='%i\\t')\n",
    "    file_performance.write(\"\\n\")\n",
    "    \n",
    "print_confusion_matrix(cf_matrix_gnb)\n",
    "write_confusion_matrix_to_file(cf_matrix_gnb)\n"
   ]
  },
  {
   "cell_type": "markdown",
   "id": "65587aef",
   "metadata": {},
   "source": [
    "**c) Precision, Recall and F1-measure**"
   ]
  },
  {
   "cell_type": "code",
   "execution_count": 13,
   "id": "e3ef8b5b",
   "metadata": {},
   "outputs": [
    {
     "name": "stdout",
     "output_type": "stream",
     "text": [
      "              precision    recall  f1-score   support\n",
      "\n",
      "       drugA       0.70      1.00      0.82         7\n",
      "       drugB       1.00      1.00      1.00         4\n",
      "       drugC       0.67      1.00      0.80         4\n",
      "       drugX       1.00      0.92      0.96        12\n",
      "       drugY       0.95      0.78      0.86        23\n",
      "\n",
      "    accuracy                           0.88        50\n",
      "   macro avg       0.86      0.94      0.89        50\n",
      "weighted avg       0.91      0.88      0.88        50\n",
      "\n"
     ]
    }
   ],
   "source": [
    "from sklearn import metrics\n",
    "\n",
    "def print_classification_report(y_test, y_predicted):\n",
    "    report = metrics.classification_report(y_test, y_predicted)\n",
    "    print(report)\n",
    "    \n",
    "def write_classification_report_to_file(y_test, y_predicted):\n",
    "    report = metrics.classification_report(y_test, y_predicted)\n",
    "    file_performance.write(\"(c) Classification Report\\n\\n\" + report)\n",
    "    file_performance.write(\"\\n\")\n",
    "\n",
    "#print(y_test)\n",
    "#print(y_pred_gnb)\n",
    "    \n",
    "print_classification_report(y_test, y_pred_gnb)\n",
    "write_classification_report_to_file(y_test, y_pred_gnb)"
   ]
  },
  {
   "cell_type": "markdown",
   "id": "2114aacb",
   "metadata": {},
   "source": [
    "**d) Accuracy, Macro-average F1 and weighted-average F1**"
   ]
  },
  {
   "cell_type": "code",
   "execution_count": 14,
   "id": "26823855",
   "metadata": {},
   "outputs": [
    {
     "name": "stdout",
     "output_type": "stream",
     "text": [
      "Accuracy Score:  0.88\n",
      "Macro-Average F1:  0.8874388016075996\n",
      "Weighted-Average F1:  0.8831450493240774\n"
     ]
    }
   ],
   "source": [
    "from sklearn.metrics import accuracy_score, f1_score\n",
    "\n",
    "def print_scores(y_test,y_predicted):\n",
    "    print(\"Accuracy Score: \", accuracy_score(y_test, y_predicted))\n",
    "    print(\"Macro-Average F1: \", f1_score(y_test, y_predicted, average=\"macro\"))\n",
    "    print(\"Weighted-Average F1: \", f1_score(y_test, y_predicted, average=\"weighted\"))\n",
    "    \n",
    "def write_scores_to_file(y_test,y_predicted):\n",
    "    file_performance.write(\"(d) Accuracy, Macro-Average F1 and Weighted-Average F1\\n\\n\")\n",
    "    file_performance.write(\"Accuracy Score: \" + str(accuracy_score(y_test, y_predicted)) + \"\\n\")\n",
    "    file_performance.write(\"Macro-Average F1: \" + str(f1_score(y_test, y_predicted, average=\"macro\")) + \"\\n\")\n",
    "    file_performance.write(\"Weighted-Average F1: \" + str(f1_score(y_test, y_predicted, average=\"weighted\")) + \"\\n\")\n",
    "    file_performance.write(\"\\n\")\n",
    "    \n",
    "print_scores(y_test, y_pred_gnb)\n",
    "write_scores_to_file(y_test,y_pred_gnb)"
   ]
  },
  {
   "cell_type": "markdown",
   "id": "178822a7",
   "metadata": {},
   "source": [
    "**Base-DT: Decision Tree**"
   ]
  },
  {
   "cell_type": "markdown",
   "id": "194deff0",
   "metadata": {},
   "source": [
    "**a) Model Description**"
   ]
  },
  {
   "cell_type": "code",
   "execution_count": 15,
   "id": "ef2c2dba",
   "metadata": {},
   "outputs": [],
   "source": [
    "write_seperator_to_file()\n",
    "write_model_name_to_file(\"Base-DT: Decision Tree\")"
   ]
  },
  {
   "cell_type": "markdown",
   "id": "84238b61",
   "metadata": {},
   "source": [
    "**b) Confusion Matrix**"
   ]
  },
  {
   "cell_type": "code",
   "execution_count": 16,
   "id": "94b84f75",
   "metadata": {},
   "outputs": [
    {
     "name": "stdout",
     "output_type": "stream",
     "text": [
      "Confusion Matrix:\n",
      " [[ 7  0  0  0  0]\n",
      " [ 0  4  0  0  0]\n",
      " [ 0  0  4  0  0]\n",
      " [ 0  0  0 12  0]\n",
      " [ 0  0  0  0 23]]\n"
     ]
    }
   ],
   "source": [
    "cf_matrix_tree = confusion_matrix(y_test,y_pred_tree)\n",
    "\n",
    "print_confusion_matrix(cf_matrix_tree)\n",
    "write_confusion_matrix_to_file(cf_matrix_tree)"
   ]
  },
  {
   "cell_type": "markdown",
   "id": "002156c1",
   "metadata": {},
   "source": [
    "**c) Precision, Recall and F1-measure**"
   ]
  },
  {
   "cell_type": "code",
   "execution_count": 17,
   "id": "6857093a",
   "metadata": {},
   "outputs": [
    {
     "name": "stdout",
     "output_type": "stream",
     "text": [
      "              precision    recall  f1-score   support\n",
      "\n",
      "       drugA       1.00      1.00      1.00         7\n",
      "       drugB       1.00      1.00      1.00         4\n",
      "       drugC       1.00      1.00      1.00         4\n",
      "       drugX       1.00      1.00      1.00        12\n",
      "       drugY       1.00      1.00      1.00        23\n",
      "\n",
      "    accuracy                           1.00        50\n",
      "   macro avg       1.00      1.00      1.00        50\n",
      "weighted avg       1.00      1.00      1.00        50\n",
      "\n"
     ]
    }
   ],
   "source": [
    "print_classification_report(y_test, y_pred_tree)\n",
    "write_classification_report_to_file(y_test, y_pred_tree)"
   ]
  },
  {
   "cell_type": "markdown",
   "id": "1ef29ff1",
   "metadata": {},
   "source": [
    "**d) Accuracy, Macro-average F1 and weighted-average F1**"
   ]
  },
  {
   "cell_type": "code",
   "execution_count": 18,
   "id": "071011a8",
   "metadata": {},
   "outputs": [
    {
     "name": "stdout",
     "output_type": "stream",
     "text": [
      "Accuracy Score:  1.0\n",
      "Macro-Average F1:  1.0\n",
      "Weighted-Average F1:  1.0\n"
     ]
    }
   ],
   "source": [
    "print_scores(y_test, y_pred_tree)\n",
    "write_scores_to_file(y_test,y_pred_tree)"
   ]
  },
  {
   "cell_type": "markdown",
   "id": "f930ae4f",
   "metadata": {},
   "source": [
    "**Top-DT: Better performing Decision tree with GridSearch**"
   ]
  },
  {
   "cell_type": "markdown",
   "id": "d002ec04",
   "metadata": {},
   "source": [
    "**a) Model Description**"
   ]
  },
  {
   "cell_type": "code",
   "execution_count": 19,
   "id": "66fdf714",
   "metadata": {},
   "outputs": [],
   "source": [
    "def write_hyper_parameters_to_file(model):\n",
    "    file_performance.write(\"Best hyper-parameter values determined by GridSearch:\" + str(model.best_params_) + \"\\n\\n\")\n",
    "\n",
    "write_seperator_to_file()\n",
    "write_model_name_to_file(\"Top-DT: Better Performing Decision Tree with GridSearch\")\n",
    "write_hyper_parameters_to_file(grid_tree)\n"
   ]
  },
  {
   "cell_type": "markdown",
   "id": "657a9e27",
   "metadata": {},
   "source": [
    "**b) Confusion Matrix**"
   ]
  },
  {
   "cell_type": "code",
   "execution_count": 20,
   "id": "107d342b",
   "metadata": {},
   "outputs": [
    {
     "name": "stdout",
     "output_type": "stream",
     "text": [
      "Confusion Matrix:\n",
      " [[ 7  0  0  0  0]\n",
      " [ 0  4  0  0  0]\n",
      " [ 0  0  4  0  0]\n",
      " [ 0  0  0 12  0]\n",
      " [ 0  0  0  0 23]]\n"
     ]
    }
   ],
   "source": [
    "cf_matrix_tree_grid = confusion_matrix(y_test,y_pred_tree_grid)\n",
    "\n",
    "print_confusion_matrix(cf_matrix_tree_grid)\n",
    "write_confusion_matrix_to_file(cf_matrix_tree_grid)"
   ]
  },
  {
   "cell_type": "markdown",
   "id": "64179f1a",
   "metadata": {},
   "source": [
    "**c) Precision, Recall and F1-measure**"
   ]
  },
  {
   "cell_type": "code",
   "execution_count": 21,
   "id": "28782511",
   "metadata": {},
   "outputs": [
    {
     "name": "stdout",
     "output_type": "stream",
     "text": [
      "              precision    recall  f1-score   support\n",
      "\n",
      "       drugA       1.00      1.00      1.00         7\n",
      "       drugB       1.00      1.00      1.00         4\n",
      "       drugC       1.00      1.00      1.00         4\n",
      "       drugX       1.00      1.00      1.00        12\n",
      "       drugY       1.00      1.00      1.00        23\n",
      "\n",
      "    accuracy                           1.00        50\n",
      "   macro avg       1.00      1.00      1.00        50\n",
      "weighted avg       1.00      1.00      1.00        50\n",
      "\n"
     ]
    }
   ],
   "source": [
    "print_classification_report(y_test, y_pred_tree_grid)\n",
    "write_classification_report_to_file(y_test, y_pred_tree_grid)"
   ]
  },
  {
   "cell_type": "markdown",
   "id": "c60b830c",
   "metadata": {},
   "source": [
    "**d) Accuracy, Macro-average F1 and weighted-average F1**"
   ]
  },
  {
   "cell_type": "code",
   "execution_count": 22,
   "id": "02a687fd",
   "metadata": {},
   "outputs": [
    {
     "name": "stdout",
     "output_type": "stream",
     "text": [
      "Accuracy Score:  1.0\n",
      "Macro-Average F1:  1.0\n",
      "Weighted-Average F1:  1.0\n"
     ]
    }
   ],
   "source": [
    "print_scores(y_test, y_pred_tree_grid)\n",
    "write_scores_to_file(y_test,y_pred_tree_grid)"
   ]
  },
  {
   "cell_type": "markdown",
   "id": "333cf662",
   "metadata": {},
   "source": [
    "**PER: Perceptron**"
   ]
  },
  {
   "cell_type": "markdown",
   "id": "e32f8138",
   "metadata": {},
   "source": [
    "**a) Model Description**"
   ]
  },
  {
   "cell_type": "code",
   "execution_count": 23,
   "id": "88a0e48a",
   "metadata": {},
   "outputs": [],
   "source": [
    "write_seperator_to_file()\n",
    "write_model_name_to_file(\"PER: Perceptron\")"
   ]
  },
  {
   "cell_type": "markdown",
   "id": "6d44563e",
   "metadata": {},
   "source": [
    "**b) Confusion Matrix**"
   ]
  },
  {
   "cell_type": "code",
   "execution_count": 24,
   "id": "c5813955",
   "metadata": {},
   "outputs": [
    {
     "name": "stdout",
     "output_type": "stream",
     "text": [
      "Confusion Matrix:\n",
      " [[ 0  0  0  7  0]\n",
      " [ 0  0  0  4  0]\n",
      " [ 0  0  0  3  1]\n",
      " [ 0  0  0  9  3]\n",
      " [ 1  0  0 12 10]]\n"
     ]
    }
   ],
   "source": [
    "cf_matrix_perc = confusion_matrix(y_test,y_pred_perc)\n",
    "\n",
    "print_confusion_matrix(cf_matrix_perc)\n",
    "write_confusion_matrix_to_file(cf_matrix_perc)"
   ]
  },
  {
   "cell_type": "markdown",
   "id": "c35c6a31",
   "metadata": {},
   "source": [
    "**c) Precision, Recall and F1-measure**"
   ]
  },
  {
   "cell_type": "code",
   "execution_count": 25,
   "id": "c57d2383",
   "metadata": {},
   "outputs": [
    {
     "name": "stdout",
     "output_type": "stream",
     "text": [
      "              precision    recall  f1-score   support\n",
      "\n",
      "       drugA       0.00      0.00      0.00         7\n",
      "       drugB       0.00      0.00      0.00         4\n",
      "       drugC       0.00      0.00      0.00         4\n",
      "       drugX       0.26      0.75      0.38        12\n",
      "       drugY       0.71      0.43      0.54        23\n",
      "\n",
      "    accuracy                           0.38        50\n",
      "   macro avg       0.19      0.24      0.18        50\n",
      "weighted avg       0.39      0.38      0.34        50\n",
      "\n"
     ]
    },
    {
     "name": "stderr",
     "output_type": "stream",
     "text": [
      "/Users/gianlucalepore/opt/miniconda3/lib/python3.7/site-packages/sklearn/metrics/_classification.py:1272: UndefinedMetricWarning: Precision and F-score are ill-defined and being set to 0.0 in labels with no predicted samples. Use `zero_division` parameter to control this behavior.\n",
      "  _warn_prf(average, modifier, msg_start, len(result))\n"
     ]
    }
   ],
   "source": [
    "print_classification_report(y_test, y_pred_perc)\n",
    "write_classification_report_to_file(y_test, y_pred_perc)"
   ]
  },
  {
   "cell_type": "markdown",
   "id": "716604a0",
   "metadata": {},
   "source": [
    "**d) Accuracy, Macro-average F1 and weighted-average F1**"
   ]
  },
  {
   "cell_type": "code",
   "execution_count": 26,
   "id": "80123b4a",
   "metadata": {},
   "outputs": [
    {
     "name": "stdout",
     "output_type": "stream",
     "text": [
      "Accuracy Score:  0.38\n",
      "Macro-Average F1:  0.18470385278895915\n",
      "Weighted-Average F1:  0.34056354226566987\n"
     ]
    }
   ],
   "source": [
    "print_scores(y_test, y_pred_perc)\n",
    "write_scores_to_file(y_test,y_pred_perc)"
   ]
  },
  {
   "cell_type": "markdown",
   "id": "5dbb1f32",
   "metadata": {},
   "source": [
    "**Base-MLP: A Multi-Layered Perceptron**"
   ]
  },
  {
   "cell_type": "markdown",
   "id": "89a6ceb7",
   "metadata": {},
   "source": [
    "**a) Model Description**"
   ]
  },
  {
   "cell_type": "code",
   "execution_count": 27,
   "id": "64710c35",
   "metadata": {},
   "outputs": [
    {
     "data": {
      "text/plain": [
       "14"
      ]
     },
     "execution_count": 27,
     "metadata": {},
     "output_type": "execute_result"
    }
   ],
   "source": [
    "write_seperator_to_file()\n",
    "write_model_name_to_file(\"Base-MLP: A Multi-Layered Perceptron\")\n",
    "\n",
    "file_performance.write(\"Selected Hyper-parameter values:\" + \"\\n\\n\")\n",
    "file_performance.write(\"Activation = \" + clf_mlp.activation + \"\\n\")\n",
    "file_performance.write(\"Solver = \" + clf_mlp.solver + \"\\n\\n\")\n",
    " "
   ]
  },
  {
   "cell_type": "markdown",
   "id": "4705fefe",
   "metadata": {},
   "source": [
    "**b) Confusion Matrix**"
   ]
  },
  {
   "cell_type": "code",
   "execution_count": 28,
   "id": "a33506d4",
   "metadata": {},
   "outputs": [
    {
     "name": "stdout",
     "output_type": "stream",
     "text": [
      "Confusion Matrix:\n",
      " [[ 0  0  0  1  6]\n",
      " [ 0  0  0  4  0]\n",
      " [ 0  0  0  2  2]\n",
      " [ 0  0  0  5  7]\n",
      " [ 0  0  0  2 21]]\n"
     ]
    }
   ],
   "source": [
    "cf_matrix_mlp = confusion_matrix(y_test,y_pred_mlp)\n",
    "\n",
    "print_confusion_matrix(cf_matrix_mlp)\n",
    "write_confusion_matrix_to_file(cf_matrix_mlp)"
   ]
  },
  {
   "cell_type": "markdown",
   "id": "b9536a3b",
   "metadata": {},
   "source": [
    "**c) Precision, Recall and F1-measure**"
   ]
  },
  {
   "cell_type": "code",
   "execution_count": 29,
   "id": "f0078682",
   "metadata": {},
   "outputs": [
    {
     "name": "stdout",
     "output_type": "stream",
     "text": [
      "              precision    recall  f1-score   support\n",
      "\n",
      "       drugA       0.00      0.00      0.00         7\n",
      "       drugB       0.00      0.00      0.00         4\n",
      "       drugC       0.00      0.00      0.00         4\n",
      "       drugX       0.36      0.42      0.38        12\n",
      "       drugY       0.58      0.91      0.71        23\n",
      "\n",
      "    accuracy                           0.52        50\n",
      "   macro avg       0.19      0.27      0.22        50\n",
      "weighted avg       0.35      0.52      0.42        50\n",
      "\n"
     ]
    }
   ],
   "source": [
    "print_classification_report(y_test, y_pred_mlp)\n",
    "write_classification_report_to_file(y_test, y_pred_mlp)"
   ]
  },
  {
   "cell_type": "markdown",
   "id": "874a6a31",
   "metadata": {},
   "source": [
    "**d) Accuracy, Macro-average F1 and weighted-average F1**"
   ]
  },
  {
   "cell_type": "code",
   "execution_count": 30,
   "id": "c81d3deb",
   "metadata": {},
   "outputs": [
    {
     "name": "stdout",
     "output_type": "stream",
     "text": [
      "Accuracy Score:  0.52\n",
      "Macro-Average F1:  0.21929595827900913\n",
      "Weighted-Average F1:  0.41976531942633644\n"
     ]
    }
   ],
   "source": [
    "print_scores(y_test, y_pred_mlp)\n",
    "write_scores_to_file(y_test,y_pred_mlp)"
   ]
  },
  {
   "cell_type": "markdown",
   "id": "3316947c",
   "metadata": {},
   "source": [
    "**Top MLP: Better Performing Multi-Layered Perceptron with GridSearch**"
   ]
  },
  {
   "cell_type": "markdown",
   "id": "79bd17c4",
   "metadata": {},
   "source": [
    "**a) Model Description**"
   ]
  },
  {
   "cell_type": "code",
   "execution_count": 31,
   "id": "82f1ed6a",
   "metadata": {},
   "outputs": [],
   "source": [
    "write_seperator_to_file()\n",
    "write_model_name_to_file(\"Top-DT: Better Performing Decision Tree with GridSearch\")\n",
    "write_hyper_parameters_to_file(grid_mlp)"
   ]
  },
  {
   "cell_type": "markdown",
   "id": "6fb7ed85",
   "metadata": {},
   "source": [
    "**b) Confusion Matrix**"
   ]
  },
  {
   "cell_type": "code",
   "execution_count": 32,
   "id": "42b68470",
   "metadata": {},
   "outputs": [
    {
     "name": "stdout",
     "output_type": "stream",
     "text": [
      "Confusion Matrix:\n",
      " [[ 7  0  0  0  0]\n",
      " [ 0  4  0  0  0]\n",
      " [ 0  0  0  2  2]\n",
      " [ 0  0  0  6  6]\n",
      " [ 0  0  0  1 22]]\n"
     ]
    }
   ],
   "source": [
    "cf_matrix_mlp_grid = confusion_matrix(y_test,y_pred_mlp_grid)\n",
    "\n",
    "print_confusion_matrix(cf_matrix_mlp_grid)\n",
    "write_confusion_matrix_to_file(cf_matrix_mlp_grid)"
   ]
  },
  {
   "cell_type": "markdown",
   "id": "0fb81200",
   "metadata": {},
   "source": [
    "**c) Precision, Recall and F1-measure**"
   ]
  },
  {
   "cell_type": "code",
   "execution_count": 33,
   "id": "452427b6",
   "metadata": {},
   "outputs": [
    {
     "name": "stdout",
     "output_type": "stream",
     "text": [
      "              precision    recall  f1-score   support\n",
      "\n",
      "       drugA       1.00      1.00      1.00         7\n",
      "       drugB       1.00      1.00      1.00         4\n",
      "       drugC       0.00      0.00      0.00         4\n",
      "       drugX       0.67      0.50      0.57        12\n",
      "       drugY       0.73      0.96      0.83        23\n",
      "\n",
      "    accuracy                           0.78        50\n",
      "   macro avg       0.68      0.69      0.68        50\n",
      "weighted avg       0.72      0.78      0.74        50\n",
      "\n"
     ]
    }
   ],
   "source": [
    "print_classification_report(y_test, y_pred_mlp_grid)\n",
    "write_classification_report_to_file(y_test, y_pred_mlp_grid)"
   ]
  },
  {
   "cell_type": "markdown",
   "id": "850e7dc2",
   "metadata": {},
   "source": [
    "**d) Accuracy, Macro-average F1 and weighted-average F1**"
   ]
  },
  {
   "cell_type": "code",
   "execution_count": 34,
   "id": "df1cdfa0",
   "metadata": {},
   "outputs": [
    {
     "name": "stdout",
     "output_type": "stream",
     "text": [
      "Accuracy Score:  0.78\n",
      "Macro-Average F1:  0.680323450134771\n",
      "Weighted-Average F1:  0.7390296495956874\n"
     ]
    }
   ],
   "source": [
    "print_scores(y_test, y_pred_mlp_grid)\n",
    "write_scores_to_file(y_test,y_pred_mlp_grid)"
   ]
  },
  {
   "cell_type": "markdown",
   "id": "d36349d0",
   "metadata": {},
   "source": [
    "**8. Redo steps 6, 10 times for each model and append the average accuracy, average macro-average F1, av- erage weighted-average F1 as well as the standard deviation for the accuracy, the standard deviation of the macro-average F1, and the standard deviation of the weighted-average F1 at the end of the file drugs-performance.txt.**"
   ]
  },
  {
   "cell_type": "code",
   "execution_count": 35,
   "id": "11004410",
   "metadata": {},
   "outputs": [],
   "source": [
    "from statistics import mean,stdev\n",
    "\n",
    "def gaussianNB_classifier():\n",
    "    gnb = GaussianNB()\n",
    "    y_pred_gnb = gnb.fit(X_train, y_train).predict(X_test)\n",
    "    return y_pred_gnb\n",
    "\n",
    "def tree_classifier():\n",
    "    clf = DecisionTreeClassifier()\n",
    "    y_pred_tree = clf.fit(X_train, y_train).predict(X_test)\n",
    "    return y_pred_tree\n",
    "\n",
    "def tree_grid_classifier():\n",
    "    param_dist={\n",
    "    \"criterion\":[\"gini\",\"entropy\"],\n",
    "    \"max_depth\":[5,10],\n",
    "    \"min_samples_split\":[2,4,6]\n",
    "}\n",
    "    grid_tree = GridSearchCV(clf,param_grid=param_dist)\n",
    "    grid_tree.fit(X_train,y_train)\n",
    "    clf_grid = DecisionTreeClassifier(criterion=grid_tree.best_params_['criterion'], \n",
    "                                  max_depth=grid_tree.best_params_['max_depth'],\n",
    "                                 min_samples_split=grid_tree.best_params_['min_samples_split'])\n",
    "    y_pred_tree_grid = clf_grid.fit(X_train, y_train).predict(X_test)\n",
    "    return y_pred_tree_grid\n",
    "\n",
    "def perceptron_classifier():\n",
    "    clf_perc = Perceptron()\n",
    "    y_pred_perc = clf_perc.fit(X_train, y_train).predict(X_test)\n",
    "    return y_pred_perc\n",
    "\n",
    "def mlp_classifier():\n",
    "    clf_mlp = MLPClassifier(activation = 'logistic', solver = 'sgd')\n",
    "    y_pred_mlp = clf_mlp.fit(X_train, y_train).predict(X_test)\n",
    "    return y_pred_mlp\n",
    "\n",
    "def mlp_grid_classifier():\n",
    "    param_mlp={\n",
    "    \"activation\":[\"identity\",\"logistic\",\"tanh\",\"relu\"],\n",
    "    \"solver\":[\"adam\",\"sgd\"],\n",
    "    \"hidden_layer_sizes\":[(30,50),(10,10,10)]\n",
    "}\n",
    "    clf_mlp_base = MLPClassifier()\n",
    "    grid_mlp = GridSearchCV(clf_mlp_base,param_grid=param_mlp)\n",
    "    grid_mlp.fit(X_train,y_train)\n",
    "    clf_mlp_grid = MLPClassifier(activation=grid_mlp.best_params_['activation'], \n",
    "                                solver=grid_mlp.best_params_['solver'],\n",
    "                               hidden_layer_sizes=grid_mlp.best_params_['hidden_layer_sizes'])\n",
    "    y_pred_mlp_grid = clf_mlp_grid.fit(X_train, y_train).predict(X_test)\n",
    "    return y_pred_mlp_grid\n",
    "\n",
    "def compute_average_metrics(model):\n",
    "    accuracies = []\n",
    "    macro_f1 = []\n",
    "    weighted_f1 = []\n",
    "    \n",
    "    for i in range(10):\n",
    "        if model == \"gaussian\":\n",
    "            y_pred = gaussianNB_classifier()\n",
    "        elif model == \"tree\":\n",
    "            y_pred = tree_classifier()\n",
    "        elif model == \"tree_grid\":\n",
    "            y_pred = tree_grid_classifier()\n",
    "        elif model == \"perceptron\":\n",
    "            y_pred = perceptron_classifier()\n",
    "        elif model == \"mlp\":\n",
    "            y_pred = mlp_classifier()\n",
    "        elif model == \"mlp_grid\":\n",
    "            y_pred = mlp_grid_classifier()\n",
    "            \n",
    "        accuracies.append(accuracy_score(y_test, y_pred))\n",
    "        macro_f1.append(f1_score(y_test, y_pred, average=\"macro\"))\n",
    "        weighted_f1.append(f1_score(y_test, y_pred, average=\"weighted\"))\n",
    "        \n",
    "    avg_accuracy = mean(accuracies)\n",
    "    avg_macro_f1 = mean(macro_f1)\n",
    "    avg_weighted_f1 = mean(weighted_f1)\n",
    "        \n",
    "    std_dev_accuracy = stdev(accuracies)\n",
    "    std_dev_macro_f1 = stdev(macro_f1)\n",
    "    std_dev_weighted_f1 = stdev(weighted_f1)\n",
    "        \n",
    "    metrics_dict = {\"avg_accuracy\" : avg_accuracy, \"avg_macro_f1\": avg_macro_f1, \"avg_weighted_f1\":avg_weighted_f1,\n",
    "                       \"std_dev_accuracy\": std_dev_accuracy, \"std_dev_macro_f1\": std_dev_macro_f1, \"std_dev_weighted_f1\":std_dev_weighted_f1 }\n",
    "        \n",
    "    return metrics_dict\n",
    "\n",
    "def write_metrics_to_file():\n",
    "    \n",
    "    write_seperator_to_file()\n",
    "    file_performance.write(\"\\n\\n\" + \"Listed below are the averages and standard deviations of accuracy, macro-average F1 and weighted average for each classifier after 10 runs\" + \"\\n\\n\" )\n",
    "    file_performance.write(\"GaussianNB:\\n\\n\")\n",
    "    file_performance.write(\"Average Accuracy = \" + str(compute_average_metrics(\"gaussian\").get('avg_accuracy')) + \"\\n\")\n",
    "    file_performance.write(\"Average Macro-Average F1 = \" + str(compute_average_metrics(\"gaussian\").get('avg_macro_f1')) + \"\\n\")\n",
    "    file_performance.write(\"Average Weighted-Average F1 = \" + str(compute_average_metrics(\"gaussian\").get('avg_weighted_f1')) + \"\\n\")\n",
    "    file_performance.write(\"Average Weighted-Average F1 = \" + str(compute_average_metrics(\"gaussian\").get('avg_weighted_f1')) + \"\\n\")\n",
    "\n",
    "\n",
    "\n",
    "\n",
    "    \n",
    "\n",
    "#compute_average_metrics(\"gaussian\")\n",
    "#compute_average_metrics(\"tree\")\n",
    "write_metrics_to_file()\n",
    "    "
   ]
  },
  {
   "cell_type": "code",
   "execution_count": 36,
   "id": "05ca1f60",
   "metadata": {},
   "outputs": [],
   "source": [
    "file_performance.close()\n",
    "file_discussion.close()"
   ]
  }
 ],
 "metadata": {
  "kernelspec": {
   "display_name": "Python 3 (ipykernel)",
   "language": "python",
   "name": "python3"
  },
  "language_info": {
   "codemirror_mode": {
    "name": "ipython",
    "version": 3
   },
   "file_extension": ".py",
   "mimetype": "text/x-python",
   "name": "python",
   "nbconvert_exporter": "python",
   "pygments_lexer": "ipython3",
   "version": "3.7.10"
  }
 },
 "nbformat": 4,
 "nbformat_minor": 5
}
